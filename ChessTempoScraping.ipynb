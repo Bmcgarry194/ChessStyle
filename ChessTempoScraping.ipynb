{
 "cells": [
  {
   "cell_type": "code",
   "execution_count": 86,
   "metadata": {},
   "outputs": [],
   "source": [
    "from selenium import webdriver\n",
    "import selenium\n",
    "import time"
   ]
  },
  {
   "cell_type": "code",
   "execution_count": 87,
   "metadata": {},
   "outputs": [],
   "source": [
    "browser = webdriver.Chrome()"
   ]
  },
  {
   "cell_type": "code",
   "execution_count": 89,
   "metadata": {},
   "outputs": [],
   "source": [
    "url = 'https://chesstempo.com/chess-players.html'\n",
    "player_name = 'Caruana, Fabiano'\n",
    "\n",
    "#go to player page on ChessTempo\n",
    "browser.get(url)\n",
    "\n",
    "#Input player name to submition box\n",
    "search_box = browser.find_element_by_css_selector(\"input#playerName\")\n",
    "\n",
    "search_box.send_keys(player_name)\n",
    "\n",
    "#click search button\n",
    "search_button = browser.find_element_by_css_selector('#submitbutton')\n",
    "\n",
    "search_button.click()\n",
    "time.sleep(1)\n",
    "\n",
    "#click on first player entry \n",
    "player = browser.find_element_by_css_selector('#board-playerList td.yui-dt-col-surname div.yui-dt-liner a')\n",
    "\n",
    "player.click()\n",
    "time.sleep(1)\n",
    "\n",
    "#click number of rows selector and select 500 rows\n",
    "time.sleep(.1)\n",
    "browser.find_element_by_xpath(\"//select[@title='Rows per page']/option[text()='500']\").click()\n",
    "\n",
    "#grab raw html\n",
    "\n",
    "#grab pgn files\n",
    "\n",
    "#go to next page\n",
    "\n"
   ]
  },
  {
   "cell_type": "code",
   "execution_count": null,
   "metadata": {},
   "outputs": [],
   "source": []
  }
 ],
 "metadata": {
  "kernelspec": {
   "display_name": "py36",
   "language": "python",
   "name": "py36"
  },
  "language_info": {
   "codemirror_mode": {
    "name": "ipython",
    "version": 3
   },
   "file_extension": ".py",
   "mimetype": "text/x-python",
   "name": "python",
   "nbconvert_exporter": "python",
   "pygments_lexer": "ipython3",
   "version": "3.6.4"
  }
 },
 "nbformat": 4,
 "nbformat_minor": 2
}
