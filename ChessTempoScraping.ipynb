{
 "cells": [
  {
   "cell_type": "code",
   "execution_count": 1,
   "metadata": {},
   "outputs": [],
   "source": [
    "from selenium import webdriver\n",
    "import selenium\n",
    "import time\n",
    "import pymongo\n",
    "from bs4 import BeautifulSoup\n",
    "from urllib.parse import (urljoin, urlparse)\n",
    "import requests"
   ]
  },
  {
   "cell_type": "code",
   "execution_count": 12,
   "metadata": {},
   "outputs": [],
   "source": [
    "def go_to_player_page(player_name):\n",
    "    \n",
    "    #create selenium instance\n",
    "    browser = webdriver.Chrome()\n",
    "    \n",
    "    #go to player page on ChessTempo\n",
    "    url = 'https://chesstempo.com/chess-players.html'\n",
    "    browser.get(url)\n",
    "\n",
    "    #Input player name to submition box\n",
    "    search_box = browser.find_element_by_css_selector(\"input#playerName\")\n",
    "    search_box.send_keys(player_name)\n",
    "\n",
    "    #click search button\n",
    "    search_button = browser.find_element_by_css_selector('#submitbutton')\n",
    "    search_button.click()\n",
    "    time.sleep(1)\n",
    "\n",
    "    #click on first player entry from search results\n",
    "    player = browser.find_element_by_css_selector('#board-playerList td.yui-dt-col-surname div.yui-dt-liner a')\n",
    "    player.click()\n",
    "    time.sleep(1)\n",
    "\n",
    "    #click number of rows selector and select 500 rows\n",
    "    browser.find_element_by_xpath(\"//select[@title='Rows per page']/option[text()='500']\").click()\n",
    "    time.sleep(2)\n",
    "    \n",
    "    #return html source\n",
    "    return browser.page_source\n"
   ]
  },
  {
   "cell_type": "code",
   "execution_count": 3,
   "metadata": {},
   "outputs": [],
   "source": [
    "# morphy_html = go_to_player_page('Morphy, Paul')"
   ]
  },
  {
   "cell_type": "code",
   "execution_count": 21,
   "metadata": {},
   "outputs": [],
   "source": [
    "def pgn_links_from_html(html):\n",
    "    soup = BeautifulSoup(html, 'html.parser')\n",
    "    links = soup.select('a.user-link')\n",
    "    url = 'https://chesstempo.com/'\n",
    "    \n",
    "    #get relative links from beatutiful soup selector\n",
    "    pgn_links_rel = [link.attrs.get('href') for link in links\n",
    "                     if 'download_game_pgn' in link.attrs.get('href')]\n",
    "    \n",
    "    #join the relative links to the base url for ChessTempo and return pgn_links\n",
    "    return [urljoin(url, link) for link in pgn_links_rel]"
   ]
  },
  {
   "cell_type": "code",
   "execution_count": 5,
   "metadata": {},
   "outputs": [
    {
     "ename": "NameError",
     "evalue": "name 'pgn_links' is not defined",
     "output_type": "error",
     "traceback": [
      "\u001b[0;31m---------------------------------------------------------------------------\u001b[0m",
      "\u001b[0;31mNameError\u001b[0m                                 Traceback (most recent call last)",
      "\u001b[0;32m<ipython-input-5-6268a2101589>\u001b[0m in \u001b[0;36m<module>\u001b[0;34m()\u001b[0m\n\u001b[0;32m----> 1\u001b[0;31m \u001b[0mpgn_links\u001b[0m\u001b[0;34m\u001b[0m\u001b[0m\n\u001b[0m",
      "\u001b[0;31mNameError\u001b[0m: name 'pgn_links' is not defined"
     ]
    }
   ],
   "source": [
    "pgn_links"
   ]
  },
  {
   "cell_type": "code",
   "execution_count": 14,
   "metadata": {},
   "outputs": [],
   "source": [
    "def scrape_pgn(url):\n",
    "    #grab fake credentials from selenium session\n",
    "    ##Under Referer player number doesn't change which might be an issue \n",
    "    raw_headers = '''Host: chesstempo.com\n",
    "Connection: keep-alive\n",
    "Upgrade-Insecure-Requests: 1\n",
    "User-Agent: Mozilla/5.0 (Macintosh; Intel Mac OS X 10_13_4) AppleWebKit/537.36 (KHTML, like Gecko) Chrome/66.0.3359.139 Safari/537.36\n",
    "Accept: text/html,application/xhtml+xml,application/xml;q=0.9,image/webp,image/apng,*/*;q=0.8\n",
    "Referer: https://chesstempo.com/gamedb/player/243342\n",
    "Accept-Encoding: gzip, deflate, br\n",
    "Accept-Language: en-US,en;q=0.9\n",
    "Cookie: PHPSESSID=slood7ckip4i7qg4271qgtsfm1; _ga=GA1.2.1156113456.1525794011; _gid=GA1.2.1594640290.1525794011'''\n",
    "\n",
    "    #put headers into a dict so it can work with requests\n",
    "    headers = dict([h.split(': ') for h in raw_headers.split('\\n')])\n",
    "    \n",
    "    #request the pgn files using fake credentials\n",
    "    response = requests.get(url, headers=headers)\n",
    "    \n",
    "    #check if the request worked\n",
    "    assert response.status_code == 200 \n",
    "    \n",
    "    #grab pgn text\n",
    "    return response.content"
   ]
  },
  {
   "cell_type": "code",
   "execution_count": 15,
   "metadata": {},
   "outputs": [],
   "source": [
    "def scrape_pgn_links(pgn_links):\n",
    "    for link in pgn_links:\n",
    "        game_id = link.split('gameids=')[1]\n",
    "        yield (game_id, scrape_pgn(link))\n",
    "        time.sleep(4)"
   ]
  },
  {
   "cell_type": "code",
   "execution_count": 16,
   "metadata": {},
   "outputs": [],
   "source": [
    "def save_pgn_file(game_id, data):\n",
    "    file_name = '/Users/bmcgarry/galvanize/ChessCapstone/ChessStyle/data/chessTempoPGN/' + game_id + '.pgn'\n",
    "    with open(file_name, 'wb') as f:\n",
    "        f.write(data)\n",
    "    "
   ]
  },
  {
   "cell_type": "code",
   "execution_count": 17,
   "metadata": {},
   "outputs": [],
   "source": [
    "def get_pgn_files(pgn_links):\n",
    "    for (game_id, data) in scrape_pgn_links(pgn_links):\n",
    "        save_pgn_file(game_id, data)"
   ]
  },
  {
   "cell_type": "code",
   "execution_count": null,
   "metadata": {},
   "outputs": [],
   "source": [
    "get_pgn_files(pgn_links[4:7])"
   ]
  },
  {
   "cell_type": "code",
   "execution_count": 18,
   "metadata": {},
   "outputs": [],
   "source": [
    "def get_player_pgn_files(player_name):\n",
    "    html = go_to_player_page(player_name)\n",
    "    pgn_links = pgn_links_from_html(html)\n",
    "    get_pgn_files(pgn_links[:10])"
   ]
  },
  {
   "cell_type": "code",
   "execution_count": 22,
   "metadata": {},
   "outputs": [],
   "source": [
    "get_player_pgn_files('Morphy, Paul')"
   ]
  },
  {
   "cell_type": "code",
   "execution_count": null,
   "metadata": {},
   "outputs": [],
   "source": []
  }
 ],
 "metadata": {
  "kernelspec": {
   "display_name": "py36",
   "language": "python",
   "name": "py36"
  },
  "language_info": {
   "codemirror_mode": {
    "name": "ipython",
    "version": 3
   },
   "file_extension": ".py",
   "mimetype": "text/x-python",
   "name": "python",
   "nbconvert_exporter": "python",
   "pygments_lexer": "ipython3",
   "version": "3.6.4"
  }
 },
 "nbformat": 4,
 "nbformat_minor": 2
}
