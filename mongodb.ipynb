{
 "cells": [
  {
   "cell_type": "code",
   "execution_count": 2,
   "metadata": {},
   "outputs": [],
   "source": [
    "import pymongo\n",
    "import requests\n",
    "from bs4 import BeautifulSoup\n",
    "import time\n",
    "import json"
   ]
  },
  {
   "cell_type": "code",
   "execution_count": 5,
   "metadata": {},
   "outputs": [],
   "source": [
    "mc = pymongo.MongoClient()  # Connect to the MongoDB server using default settings\n",
    "db = mc['chess_predictions']  # Use (or create) a database called 'election_predictions'\n",
    "players = db['players']  # Use (or create) a collection called 'profiles'"
   ]
  },
  {
   "cell_type": "code",
   "execution_count": 3,
   "metadata": {},
   "outputs": [],
   "source": [
    "def get_player_profile(username):\n",
    "    try:\n",
    "        response = requests.get(f'https://api.chess.com/pub/player/{username}')\n",
    "        return json.loads(response.content.decode('utf-8'))\n",
    "    except:\n",
    "        return [] \n",
    "        \n",
    "def get_player_stats(username):\n",
    "    try:\n",
    "        response = requests.get(f'https://api.chess.com/pub/player/{username}/stats')\n",
    "        return json.loads(response.content.decode('utf-8'))\n",
    "    except:\n",
    "        return []\n",
    "        \n",
    "def get_player_games(username):\n",
    "    '''return a list of lists where each list contains the games played each the months of January through May 2018'''\n",
    "    \n",
    "    months = ['01', '02', '03', '04', '05']\n",
    "    month_games = []\n",
    "    for month in months:\n",
    "        try:\n",
    "            response = requests.get(f'https://api.chess.com/pub/player/{username}/games/2018/{month}')\n",
    "            month_games.append([json.loads(response.content.decode('utf-8'))])\n",
    "        except:\n",
    "            continue\n",
    "    return month_games\n",
    "\n",
    "def player_data_to_mongoDB(username, mongoDB_connection, database, collection):\n",
    "    \n",
    "    mc = mongoDB_connection\n",
    "    \n",
    "    #use/create a database\n",
    "    db = mc[database]\n",
    "    \n",
    "    #use/create a collection\n",
    "    collection = db[collection]\n",
    "    \n",
    "    #query Chess.com api for data\n",
    "    profile = get_player_profile(username)\n",
    "    stats = get_player_stats(username)\n",
    "    games = get_player_games(username)\n",
    "    \n",
    "    #insert player data into database\n",
    "    collection.insert_one({**profile,\n",
    "                           **stats,\n",
    "                           'games': games\n",
    "                            })\n",
    "\n",
    "def all_player_data_to_mongoDB(players, mongoDB_connection, database, collection, verbose=False):\n",
    "    '''insert all player data into a mongoDB\n",
    "       Params:\n",
    "          players: list of player names\n",
    "          mongoDB_connection: open connection to database ex. pymongo.MongoClient()\n",
    "          database: name of database\n",
    "          collection: name of collection\n",
    "       Keyword Args:\n",
    "          verbose: if True print player name after each insert, default is False\n",
    "    '''\n",
    "    for player in players:\n",
    "        player_data_to_mongoDB(player, mongoDB_connection, database, collection)\n",
    "        if verbose:\n",
    "            print(player)\n",
    "    return pd.DataFrame(list(db[collection].find()))"
   ]
  },
  {
   "cell_type": "code",
   "execution_count": 224,
   "metadata": {},
   "outputs": [],
   "source": [
    "player_data_to_mongoDB('babu500',pymongo.MongoClient(), 'chess_predictions', 'players')"
   ]
  },
  {
   "cell_type": "code",
   "execution_count": 143,
   "metadata": {
    "scrolled": true
   },
   "outputs": [
    {
     "data": {
      "text/plain": [
       "5"
      ]
     },
     "execution_count": 143,
     "metadata": {},
     "output_type": "execute_result"
    }
   ],
   "source": [
    "len(all_player_data_to_mongoDB(['babu500', 'cesdaycart'], pymongo.MongoClient(), 'chess_predictions', 'players')['games'][0])"
   ]
  },
  {
   "cell_type": "code",
   "execution_count": 6,
   "metadata": {},
   "outputs": [
    {
     "data": {
      "text/html": [
       "<div>\n",
       "<style scoped>\n",
       "    .dataframe tbody tr th:only-of-type {\n",
       "        vertical-align: middle;\n",
       "    }\n",
       "\n",
       "    .dataframe tbody tr th {\n",
       "        vertical-align: top;\n",
       "    }\n",
       "\n",
       "    .dataframe thead th {\n",
       "        text-align: right;\n",
       "    }\n",
       "</style>\n",
       "<table border=\"1\" class=\"dataframe\">\n",
       "  <thead>\n",
       "    <tr style=\"text-align: right;\">\n",
       "      <th></th>\n",
       "      <th>@id</th>\n",
       "      <th>_id</th>\n",
       "      <th>avatar</th>\n",
       "      <th>chess960_daily</th>\n",
       "      <th>chess_blitz</th>\n",
       "      <th>chess_bullet</th>\n",
       "      <th>chess_daily</th>\n",
       "      <th>chess_rapid</th>\n",
       "      <th>country</th>\n",
       "      <th>followers</th>\n",
       "      <th>games</th>\n",
       "      <th>joined</th>\n",
       "      <th>last_online</th>\n",
       "      <th>location</th>\n",
       "      <th>name</th>\n",
       "      <th>player_id</th>\n",
       "      <th>status</th>\n",
       "      <th>url</th>\n",
       "      <th>username</th>\n",
       "    </tr>\n",
       "  </thead>\n",
       "  <tbody>\n",
       "    <tr>\n",
       "      <th>0</th>\n",
       "      <td>https://api.chess.com/pub/player/babu500</td>\n",
       "      <td>5afa039f098388ad5ff6a3a1</td>\n",
       "      <td>NaN</td>\n",
       "      <td>NaN</td>\n",
       "      <td>{'last': {'rating': 777, 'date': 1525820389, '...</td>\n",
       "      <td>NaN</td>\n",
       "      <td>{'last': {'rating': 1200, 'date': 1516320601, ...</td>\n",
       "      <td>{'last': {'rating': 974, 'date': 1522794278, '...</td>\n",
       "      <td>https://api.chess.com/pub/country/US</td>\n",
       "      <td>1</td>\n",
       "      <td>[[{'games': [{'url': 'https://www.chess.com/li...</td>\n",
       "      <td>1516059527</td>\n",
       "      <td>1526310229</td>\n",
       "      <td>NaN</td>\n",
       "      <td>NaN</td>\n",
       "      <td>42361082</td>\n",
       "      <td>premium</td>\n",
       "      <td>https://www.chess.com/member/babu500</td>\n",
       "      <td>babu500</td>\n",
       "    </tr>\n",
       "    <tr>\n",
       "      <th>1</th>\n",
       "      <td>https://api.chess.com/pub/player/0rlandomagic</td>\n",
       "      <td>5afa05ce098388c83c3f08fa</td>\n",
       "      <td>NaN</td>\n",
       "      <td>{'last': {'rating': 1257, 'date': 1526259679, ...</td>\n",
       "      <td>{'last': {'rating': 1800, 'date': 1526089345, ...</td>\n",
       "      <td>{'last': {'rating': 2117, 'date': 1526323151, ...</td>\n",
       "      <td>{'last': {'rating': 1425, 'date': 1525869836, ...</td>\n",
       "      <td>NaN</td>\n",
       "      <td>https://api.chess.com/pub/country/US</td>\n",
       "      <td>13</td>\n",
       "      <td>[[{'games': [{'url': 'https://www.chess.com/da...</td>\n",
       "      <td>1515424234</td>\n",
       "      <td>1526322679</td>\n",
       "      <td>NaN</td>\n",
       "      <td>NaN</td>\n",
       "      <td>42121838</td>\n",
       "      <td>basic</td>\n",
       "      <td>https://www.chess.com/member/0rlandoMagic</td>\n",
       "      <td>0rlandomagic</td>\n",
       "    </tr>\n",
       "    <tr>\n",
       "      <th>2</th>\n",
       "      <td>https://api.chess.com/pub/player/0ldtower</td>\n",
       "      <td>5afa063e098388c83c3f08fc</td>\n",
       "      <td>NaN</td>\n",
       "      <td>NaN</td>\n",
       "      <td>NaN</td>\n",
       "      <td>NaN</td>\n",
       "      <td>NaN</td>\n",
       "      <td>NaN</td>\n",
       "      <td>https://api.chess.com/pub/country/US</td>\n",
       "      <td>0</td>\n",
       "      <td>[[{'games': []}], [{'games': []}], [{'games': ...</td>\n",
       "      <td>1515958780</td>\n",
       "      <td>1526117639</td>\n",
       "      <td>NaN</td>\n",
       "      <td>Nick Chamberlain</td>\n",
       "      <td>42324950</td>\n",
       "      <td>basic</td>\n",
       "      <td>https://www.chess.com/member/0ldTower</td>\n",
       "      <td>0ldtower</td>\n",
       "    </tr>\n",
       "    <tr>\n",
       "      <th>3</th>\n",
       "      <td>https://api.chess.com/pub/player/0rlandomagic</td>\n",
       "      <td>5afa0640098388c83c3f08fd</td>\n",
       "      <td>NaN</td>\n",
       "      <td>{'last': {'rating': 1257, 'date': 1526259679, ...</td>\n",
       "      <td>{'last': {'rating': 1800, 'date': 1526089345, ...</td>\n",
       "      <td>{'last': {'rating': 2117, 'date': 1526323151, ...</td>\n",
       "      <td>{'last': {'rating': 1425, 'date': 1525869836, ...</td>\n",
       "      <td>NaN</td>\n",
       "      <td>https://api.chess.com/pub/country/US</td>\n",
       "      <td>13</td>\n",
       "      <td>[[{'games': [{'url': 'https://www.chess.com/da...</td>\n",
       "      <td>1515424234</td>\n",
       "      <td>1526322679</td>\n",
       "      <td>NaN</td>\n",
       "      <td>NaN</td>\n",
       "      <td>42121838</td>\n",
       "      <td>basic</td>\n",
       "      <td>https://www.chess.com/member/0rlandoMagic</td>\n",
       "      <td>0rlandomagic</td>\n",
       "    </tr>\n",
       "    <tr>\n",
       "      <th>4</th>\n",
       "      <td>https://api.chess.com/pub/player/0xvyper</td>\n",
       "      <td>5afa0641098388c83c3f08fe</td>\n",
       "      <td>NaN</td>\n",
       "      <td>NaN</td>\n",
       "      <td>{'last': {'rating': 705, 'date': 1526217305, '...</td>\n",
       "      <td>NaN</td>\n",
       "      <td>NaN</td>\n",
       "      <td>{'last': {'rating': 870, 'date': 1516238541, '...</td>\n",
       "      <td>https://api.chess.com/pub/country/US</td>\n",
       "      <td>1</td>\n",
       "      <td>[[{'games': [{'url': 'https://www.chess.com/li...</td>\n",
       "      <td>1515610811</td>\n",
       "      <td>1526216631</td>\n",
       "      <td>NaN</td>\n",
       "      <td>Vyper Dev</td>\n",
       "      <td>42192576</td>\n",
       "      <td>basic</td>\n",
       "      <td>https://www.chess.com/member/0xVyper</td>\n",
       "      <td>0xvyper</td>\n",
       "    </tr>\n",
       "  </tbody>\n",
       "</table>\n",
       "</div>"
      ],
      "text/plain": [
       "                                             @id                       _id  \\\n",
       "0       https://api.chess.com/pub/player/babu500  5afa039f098388ad5ff6a3a1   \n",
       "1  https://api.chess.com/pub/player/0rlandomagic  5afa05ce098388c83c3f08fa   \n",
       "2      https://api.chess.com/pub/player/0ldtower  5afa063e098388c83c3f08fc   \n",
       "3  https://api.chess.com/pub/player/0rlandomagic  5afa0640098388c83c3f08fd   \n",
       "4       https://api.chess.com/pub/player/0xvyper  5afa0641098388c83c3f08fe   \n",
       "\n",
       "  avatar                                     chess960_daily  \\\n",
       "0    NaN                                                NaN   \n",
       "1    NaN  {'last': {'rating': 1257, 'date': 1526259679, ...   \n",
       "2    NaN                                                NaN   \n",
       "3    NaN  {'last': {'rating': 1257, 'date': 1526259679, ...   \n",
       "4    NaN                                                NaN   \n",
       "\n",
       "                                         chess_blitz  \\\n",
       "0  {'last': {'rating': 777, 'date': 1525820389, '...   \n",
       "1  {'last': {'rating': 1800, 'date': 1526089345, ...   \n",
       "2                                                NaN   \n",
       "3  {'last': {'rating': 1800, 'date': 1526089345, ...   \n",
       "4  {'last': {'rating': 705, 'date': 1526217305, '...   \n",
       "\n",
       "                                        chess_bullet  \\\n",
       "0                                                NaN   \n",
       "1  {'last': {'rating': 2117, 'date': 1526323151, ...   \n",
       "2                                                NaN   \n",
       "3  {'last': {'rating': 2117, 'date': 1526323151, ...   \n",
       "4                                                NaN   \n",
       "\n",
       "                                         chess_daily  \\\n",
       "0  {'last': {'rating': 1200, 'date': 1516320601, ...   \n",
       "1  {'last': {'rating': 1425, 'date': 1525869836, ...   \n",
       "2                                                NaN   \n",
       "3  {'last': {'rating': 1425, 'date': 1525869836, ...   \n",
       "4                                                NaN   \n",
       "\n",
       "                                         chess_rapid  \\\n",
       "0  {'last': {'rating': 974, 'date': 1522794278, '...   \n",
       "1                                                NaN   \n",
       "2                                                NaN   \n",
       "3                                                NaN   \n",
       "4  {'last': {'rating': 870, 'date': 1516238541, '...   \n",
       "\n",
       "                                country  followers  \\\n",
       "0  https://api.chess.com/pub/country/US          1   \n",
       "1  https://api.chess.com/pub/country/US         13   \n",
       "2  https://api.chess.com/pub/country/US          0   \n",
       "3  https://api.chess.com/pub/country/US         13   \n",
       "4  https://api.chess.com/pub/country/US          1   \n",
       "\n",
       "                                               games      joined  last_online  \\\n",
       "0  [[{'games': [{'url': 'https://www.chess.com/li...  1516059527   1526310229   \n",
       "1  [[{'games': [{'url': 'https://www.chess.com/da...  1515424234   1526322679   \n",
       "2  [[{'games': []}], [{'games': []}], [{'games': ...  1515958780   1526117639   \n",
       "3  [[{'games': [{'url': 'https://www.chess.com/da...  1515424234   1526322679   \n",
       "4  [[{'games': [{'url': 'https://www.chess.com/li...  1515610811   1526216631   \n",
       "\n",
       "  location              name  player_id   status  \\\n",
       "0      NaN               NaN   42361082  premium   \n",
       "1      NaN               NaN   42121838    basic   \n",
       "2      NaN  Nick Chamberlain   42324950    basic   \n",
       "3      NaN               NaN   42121838    basic   \n",
       "4      NaN         Vyper Dev   42192576    basic   \n",
       "\n",
       "                                         url      username  \n",
       "0       https://www.chess.com/member/babu500       babu500  \n",
       "1  https://www.chess.com/member/0rlandoMagic  0rlandomagic  \n",
       "2      https://www.chess.com/member/0ldTower      0ldtower  \n",
       "3  https://www.chess.com/member/0rlandoMagic  0rlandomagic  \n",
       "4       https://www.chess.com/member/0xVyper       0xvyper  "
      ]
     },
     "execution_count": 6,
     "metadata": {},
     "output_type": "execute_result"
    }
   ],
   "source": [
    "df = pd.DataFrame(list(db['players'].find()))\n",
    "df.head()"
   ]
  },
  {
   "cell_type": "code",
   "execution_count": 7,
   "metadata": {},
   "outputs": [],
   "source": [
    "#grab only important columns\n",
    "df_chess = df[['avatar',\n",
    "               'followers',\n",
    "               'games',\n",
    "               'joined',\n",
    "               'last_online',\n",
    "               'location',\n",
    "               'name',\n",
    "               'player_id',\n",
    "               'status',\n",
    "               'username'\n",
    "               ]]\n",
    "\n"
   ]
  },
  {
   "cell_type": "code",
   "execution_count": 11,
   "metadata": {},
   "outputs": [
    {
     "name": "stderr",
     "output_type": "stream",
     "text": [
      "/anaconda3/envs/python3/lib/python3.6/site-packages/ipykernel_launcher.py:1: SettingWithCopyWarning: \n",
      "A value is trying to be set on a copy of a slice from a DataFrame.\n",
      "Try using .loc[row_indexer,col_indexer] = value instead\n",
      "\n",
      "See the caveats in the documentation: http://pandas.pydata.org/pandas-docs/stable/indexing.html#indexing-view-versus-copy\n",
      "  \"\"\"Entry point for launching an IPython kernel.\n"
     ]
    }
   ],
   "source": [
    "df_chess['january_games'] = df_chess['games'].apply(lambda x: get_january(x))"
   ]
  },
  {
   "cell_type": "code",
   "execution_count": 31,
   "metadata": {},
   "outputs": [
    {
     "name": "stdout",
     "output_type": "stream",
     "text": [
      "<class 'pandas.core.frame.DataFrame'>\n",
      "RangeIndex: 1533 entries, 0 to 1532\n",
      "Data columns (total 12 columns):\n",
      "avatar           666 non-null object\n",
      "followers        1533 non-null int64\n",
      "games            1533 non-null object\n",
      "joined           1533 non-null int64\n",
      "last_online      1533 non-null int64\n",
      "location         75 non-null object\n",
      "name             952 non-null object\n",
      "player_id        1533 non-null int64\n",
      "status           1533 non-null object\n",
      "username         1533 non-null object\n",
      "january_games    1533 non-null object\n",
      "feb_games        1533 non-null object\n",
      "dtypes: int64(4), object(8)\n",
      "memory usage: 143.8+ KB\n"
     ]
    }
   ],
   "source": [
    "df_chess.info()"
   ]
  },
  {
   "cell_type": "code",
   "execution_count": 30,
   "metadata": {},
   "outputs": [
    {
     "data": {
      "text/plain": [
       "10"
      ]
     },
     "execution_count": 30,
     "metadata": {},
     "output_type": "execute_result"
    }
   ],
   "source": [
    "len(df_chess['january_games'][0]['games'])"
   ]
  },
  {
   "cell_type": "code",
   "execution_count": 22,
   "metadata": {},
   "outputs": [
    {
     "name": "stderr",
     "output_type": "stream",
     "text": [
      "/anaconda3/envs/python3/lib/python3.6/site-packages/ipykernel_launcher.py:12: SettingWithCopyWarning: \n",
      "A value is trying to be set on a copy of a slice from a DataFrame.\n",
      "Try using .loc[row_indexer,col_indexer] = value instead\n",
      "\n",
      "See the caveats in the documentation: http://pandas.pydata.org/pandas-docs/stable/indexing.html#indexing-view-versus-copy\n",
      "  if sys.path[0] == '':\n"
     ]
    }
   ],
   "source": [
    "# def get_january(x):\n",
    "#     return x[0][0]\n",
    "\n",
    "# df_chess['january_games'] = df_chess['games'].apply(lambda x: get_january(x))\n",
    "\n",
    "def get_feb(x):\n",
    "    try:\n",
    "        return x[0][1]\n",
    "    except:\n",
    "        return []\n",
    "\n",
    "df_chess['feb_games'] = df_chess['games'].apply(lambda x: get_feb(x))\n",
    "\n",
    "# def get_march(x):\n",
    "#     return x[0][2]\n",
    "\n",
    "# df_chess['march_games'] = df_chess['games'].apply(lambda x: get_march(x))\n",
    "\n",
    "# def get_april(x):\n",
    "#     return x[0][3]\n",
    "\n",
    "# df_chess['april_games'] = df_chess['games'].apply(lambda x: get_april(x))"
   ]
  },
  {
   "cell_type": "code",
   "execution_count": 25,
   "metadata": {},
   "outputs": [
    {
     "ename": "TypeError",
     "evalue": "__call__() takes from 1 to 2 positional arguments but 3 were given",
     "output_type": "error",
     "traceback": [
      "\u001b[0;31m---------------------------------------------------------------------------\u001b[0m",
      "\u001b[0;31mTypeError\u001b[0m                                 Traceback (most recent call last)",
      "\u001b[0;32m<ipython-input-25-dcf10ff024f2>\u001b[0m in \u001b[0;36m<module>\u001b[0;34m()\u001b[0m\n\u001b[0;32m----> 1\u001b[0;31m \u001b[0mdf\u001b[0m\u001b[0;34m[\u001b[0m\u001b[0;34m'games'\u001b[0m\u001b[0;34m]\u001b[0m\u001b[0;34m.\u001b[0m\u001b[0miloc\u001b[0m\u001b[0;34m(\u001b[0m\u001b[0;36m0\u001b[0m\u001b[0;34m,\u001b[0m\u001b[0;36m4\u001b[0m\u001b[0;34m)\u001b[0m\u001b[0;34m\u001b[0m\u001b[0m\n\u001b[0m",
      "\u001b[0;31mTypeError\u001b[0m: __call__() takes from 1 to 2 positional arguments but 3 were given"
     ]
    }
   ],
   "source": [
    "df['games'].iloc(0,4)"
   ]
  },
  {
   "cell_type": "code",
   "execution_count": null,
   "metadata": {},
   "outputs": [],
   "source": [
    "df['games'][player][month][0]['games'][one game from the month]['url',\n",
    "                                                                'pgn',\n",
    "                                                                'time_control',\n",
    "                                                                'end_time',\n",
    "                                                                'rated',\n",
    "                                                                'fen',\n",
    "                                                                'time_class',\n",
    "                                                                'rules',\n",
    "                                                                'white',\n",
    "                                                                'black']\n"
   ]
  },
  {
   "cell_type": "code",
   "execution_count": 222,
   "metadata": {},
   "outputs": [
    {
     "data": {
      "text/plain": [
       "<pymongo.results.DeleteResult at 0x1a8a374ab0>"
      ]
     },
     "execution_count": 222,
     "metadata": {},
     "output_type": "execute_result"
    }
   ],
   "source": [
    "db.players.delete_many({})"
   ]
  },
  {
   "cell_type": "code",
   "execution_count": null,
   "metadata": {},
   "outputs": [],
   "source": []
  }
 ],
 "metadata": {
  "kernelspec": {
   "display_name": "py36",
   "language": "python",
   "name": "py36"
  },
  "language_info": {
   "codemirror_mode": {
    "name": "ipython",
    "version": 3
   },
   "file_extension": ".py",
   "mimetype": "text/x-python",
   "name": "python",
   "nbconvert_exporter": "python",
   "pygments_lexer": "ipython3",
   "version": "3.6.4"
  }
 },
 "nbformat": 4,
 "nbformat_minor": 2
}
