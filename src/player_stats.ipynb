{
 "cells": [
  {
   "cell_type": "code",
   "execution_count": 4,
   "metadata": {},
   "outputs": [],
   "source": [
    "import pandas as pd\n",
    "import json\n",
    "import random\n",
    "import datetime\n",
    "import requests\n",
    "import matplotlib.pyplot as plt \n",
    "import numpy as np\n",
    "import seaborn as sns\n",
    "import re"
   ]
  },
  {
   "cell_type": "code",
   "execution_count": 5,
   "metadata": {},
   "outputs": [],
   "source": [
    "def get_monthly_archives(username):\n",
    "    '''Returns a list of months in which the user played a game'''\n",
    "    try:\n",
    "        response = requests.get(f'https://api.chess.com/pub/player/{username}/games/archives')\n",
    "        months_played = json.loads(response.content.decode('utf-8'))['archives']\n",
    "        return [month[-7:].split('/') for month in months_played]\n",
    "    except:\n",
    "        return []\n",
    "        \n",
    "def get_player_games(username):\n",
    "    '''return a list of all games played'''\n",
    "    \n",
    "    months = get_monthly_archives(username)\n",
    "    games = []\n",
    "    if months:\n",
    "        for month in months:\n",
    "            year = month[0]\n",
    "            month_ = month[1]\n",
    "            response = requests.get(f'https://api.chess.com/pub/player/{username}/games/{year}/{month_}')\n",
    "            for game in json.loads(response.content.decode('utf-8'))['games']:\n",
    "                games.append(game)\n",
    "    return games\n",
    "\n",
    "def game_stats_df(username):\n",
    "    '''Returns a pandas dataframe containing stats for every game played'''\n",
    "    \n",
    "    game_list = get_player_games(username)\n",
    "    \n",
    "    player_rating = []\n",
    "    rating_difference = []\n",
    "    player_result = []\n",
    "    player_username = []\n",
    "    end_time = []\n",
    "    pgn = []\n",
    "    eco = []\n",
    "    rated = []\n",
    "    time_class = []\n",
    "    rules = []\n",
    "    game_length = []\n",
    "    player_color = []\n",
    "\n",
    "    for i, game in enumerate(game_list):\n",
    "        \n",
    "        starting_position = 'rnbqkbnr/pppppppp/8/8/8/8/PPPPPPPP/RNBQKBNR w KQkq -'\n",
    "        \n",
    "        if (game['rules'] == 'chess') and (game['fen'] != starting_position):\n",
    "            pgn_data = game['pgn'].split('\\n')\n",
    "            pgn.append(pgn_data[-1])\n",
    "            eco.append(pgn_data[7].split('\"')[-2])\n",
    "            game_length.append(int(re.split(\"(\\d+)\\.+\", game['pgn'])[-2]))\n",
    "\n",
    "        else:\n",
    "            pgn.append(None)\n",
    "            eco.append(None)\n",
    "            game_length.append(None)\n",
    "            \n",
    "        if game['black']['username'].lower() == username.lower():\n",
    "            player_rating.append(game['black']['rating'])\n",
    "            rating_difference.append(game['black']['rating'] - game['white']['rating'])\n",
    "            player_result.append(game['black']['result'])\n",
    "            player_username.append(game['black']['username'])\n",
    "            player_color.append('black')\n",
    "        else:\n",
    "            player_rating.append(game['white']['rating'])\n",
    "            rating_difference.append(game['white']['rating'] - game['black']['rating'])\n",
    "            player_result.append(game['white']['result'])\n",
    "            player_username.append(game['white']['username'])\n",
    "            player_color.append('white')\n",
    "            \n",
    "        end_time.append(pd.to_datetime(game['end_time'], unit='s'))\n",
    "        rated.append(game['rated'])\n",
    "        time_class.append(game['time_class'])\n",
    "        rules.append(game['rules'])\n",
    "\n",
    "    df = pd.DataFrame({'player_username': player_username,\n",
    "                       'player_color': player_color,\n",
    "                       'player_rating': player_rating,\n",
    "                       'rating_difference': rating_difference,\n",
    "                       'player_result': player_result,\n",
    "                       'end_time': end_time,\n",
    "                       'rated': rated,\n",
    "                       'time_class': time_class,\n",
    "                       'rules': rules,\n",
    "                       'pgn': pgn,\n",
    "                       'eco': eco,\n",
    "                       'game_length':game_length})\n",
    "    \n",
    "#     Create three columns in the data frame indicating a win, draw, or loss with a True or False\n",
    "    df['win'] = df['player_result'] == 'win'\n",
    "\n",
    "    draw = {'agreed', 'repetition', 'stalemate',\n",
    "            'insufficient', '50move', 'timevsinsufficient'}\n",
    "    \n",
    "    df['draw'] = df['player_result'].isin(draw)\n",
    "\n",
    "    lose = {'checkmated', 'timeout', 'resigned', 'lose', 'abandoned',\n",
    "           'kingofthehill', 'threecheck'}\n",
    "\n",
    "    df['lose'] = df['player_result'].isin(lose)\n",
    "    \n",
    "    return df"
   ]
  },
  {
   "cell_type": "code",
   "execution_count": 6,
   "metadata": {},
   "outputs": [],
   "source": [
    "df = game_stats_df('cesdaycart')"
   ]
  },
  {
   "cell_type": "code",
   "execution_count": 7,
   "metadata": {},
   "outputs": [
    {
     "data": {
      "text/plain": [
       "1322"
      ]
     },
     "execution_count": 7,
     "metadata": {},
     "output_type": "execute_result"
    }
   ],
   "source": [
    "df.player_rating[1000]"
   ]
  },
  {
   "cell_type": "code",
   "execution_count": 19,
   "metadata": {},
   "outputs": [],
   "source": [
    "import chess\n",
    "import chess.uci\n",
    "import chess.pgn\n",
    "from io import StringIO\n",
    "\n",
    "pgn = StringIO(df.pgn[1000])\n",
    "game = chess.pgn.read_game(pgn)\n",
    "\n",
    "#Go to the end of the game and create a chess.Board() from it:\n",
    "# game = game.end()\n",
    "board = game.board()\n",
    "\n",
    "centipawn_eval_5 = []\n",
    "#or if you want to loop over all game nodes:\n",
    "while not game.is_end():\n",
    "    node = game.variations[0]\n",
    "    board = game.board() #print the board if you want, to make sure\n",
    "    game = node\n",
    "    \n",
    "    #Now we have our board ready, load your engine:\n",
    "    handler = chess.uci.InfoHandler()\n",
    "    engine = chess.uci.popen_engine('/Users/bmcgarry/projects/Stockfish/src/stockfish') #give correct address of your engine here\n",
    "    engine.info_handlers.append(handler)\n",
    "\n",
    "    #give your position to the engine:\n",
    "    engine.position(board)\n",
    "\n",
    "    #Set your evaluation time, in ms:\n",
    "    evaltime = 5000 #so 5 seconds\n",
    "    evaluation = engine.go(movetime=evaltime)\n",
    "\n",
    "    if handler.info[\"score\"][1][0]:\n",
    "        centipawn_eval_5.append(handler.info[\"score\"][1][0])\n",
    "    else:\n",
    "        mate_in = handler.info[\"score\"][1][1]\n",
    "        centipawn_eval.append(mate_in)\n",
    "        \n",
    "#     print ('FEN of the last position of the game: ', board.fen())\n",
    "#     print ('best move: ', board.san(evaluation[0]))\n",
    "#     print ('evaluation value: ', handler.info[\"score\"][1])\n",
    "# print(centipawn_eval)\n"
   ]
  },
  {
   "cell_type": "code",
   "execution_count": 26,
   "metadata": {},
   "outputs": [
    {
     "data": {
      "text/plain": [
       "[<matplotlib.lines.Line2D at 0x10b843e48>]"
      ]
     },
     "execution_count": 26,
     "metadata": {},
     "output_type": "execute_result"
    },
    {
     "data": {
      "image/png": "[encoded data removed]",
      "text/plain": [
       "<matplotlib.figure.Figure at 0x1114edc50>"
      ]
     },
     "metadata": {},
     "output_type": "display_data"
    }
   ],
   "source": [
    "fig, ax = plt.subplots(figsize=(15, 7))\n",
    "\n",
    "y = centipawn_eval[:28]\n",
    "x = list(range(len(centipawn_eval_5)))\n",
    "ax.plot(x, y)\n",
    "\n",
    "y_5 = centipawn_eval_5\n",
    "ax.plot(x, y_5)"
   ]
  },
  {
   "cell_type": "code",
   "execution_count": 32,
   "metadata": {},
   "outputs": [
    {
     "name": "stdout",
     "output_type": "stream",
     "text": [
      "[36, 18, -15, -9, 13, -21, 13, -17, 43, 6, 16, -17, -6, -3, 7, -1, 27, 2, 10, -1, 1, -16, 21, 12, 26, -5, 11, 32]\n"
     ]
    }
   ],
   "source": [
    "diff = []\n",
    "for idx, num in enumerate(y):\n",
    "    diff.append(y[idx] - y_5[idx])\n",
    "    \n",
    "print(diff)"
   ]
  },
  {
   "cell_type": "code",
   "execution_count": null,
   "metadata": {},
   "outputs": [],
   "source": [
    "df = pd.read_csv('../data/john_games.csv')\n",
    "df.end_time\n",
    "\n",
    "# df.end_time = pd.to_datetime(df['end_time'], infer_datetime_format=True)\n",
    "\n",
    "# blitz_chess_df = df[(df['rules'] == 'chess') & (df['time_class'] == 'blitz')] \n",
    "# game_amount = blitz_chess_df.resample('D', on='end_time').size().values\n",
    "# dates =  blitz_chess_df.resample('D', on='end_time').size().index \n"
   ]
  },
  {
   "cell_type": "code",
   "execution_count": null,
   "metadata": {},
   "outputs": [],
   "source": [
    "blitz_chess_df = df[(df['rules'] == 'chess') & (df['time_class'] == 'blitz')]\n",
    "game_amount = blitz_chess_df.resample('D', on='end_time').size().values\n",
    "dates = blitz_chess_df.resample('D', on='end_time').size().index\n",
    "\n",
    "fig, ax = plt.subplots(figsize=(15,7))\n",
    "\n",
    "ax.bar(dates, game_amount);"
   ]
  },
  {
   "cell_type": "code",
   "execution_count": null,
   "metadata": {},
   "outputs": [],
   "source": [
    "blitz_chess_df.resample('W', on='end_time').mean().index"
   ]
  },
  {
   "cell_type": "code",
   "execution_count": null,
   "metadata": {},
   "outputs": [],
   "source": [
    "def chess_graphs(df, resample='W', num_openings=5):\n",
    "    fig, ax = plt.subplots(4, figsize=(15, 20))\n",
    "\n",
    "    blitz_chess_df = df[(df['rules'] == 'chess') & (df['time_class'] == 'blitz')]\n",
    "    \n",
    "    game_amount = blitz_chess_df.resample(resample, on='end_time').size().values\n",
    "    dates = blitz_chess_df.resample(resample, on='end_time').size().index\n",
    "\n",
    "    ax[0].bar(dates, game_amount)\n",
    "    ax[0].set_title('Games played per week')\n",
    "\n",
    "    ax[1].plot(blitz_chess_df.resample(resample, on='end_time').mean()['player_rating'].fillna(method='ffill'))\n",
    "    ax[1].set_title('Average Weekly Rating')\n",
    "\n",
    "    games_played_white = blitz_chess_df[blitz_chess_df.player_color == 'white'].eco.value_counts(normalize=True)[:num_openings].values\n",
    "    openings_white = blitz_chess_df[blitz_chess_df.player_color == 'white'].eco.value_counts(normalize=True)[:num_openings].index\n",
    "\n",
    "    x = np.arange(len(openings_white))\n",
    "\n",
    "    ax[2].bar(x, games_played_white)\n",
    "    ax[2].set_title(f'{num_openings} Most Frequently Played Openings as White')\n",
    "    ax[2].set_xticks(x)\n",
    "    ax[2].set_xticklabels(openings_white);\n",
    "\n",
    "    games_played_black = blitz_chess_df[blitz_chess_df.player_color == 'black'].eco.value_counts(normalize=True)[:num_openings].values\n",
    "    openings_black = blitz_chess_df[blitz_chess_df.player_color == 'black'].eco.value_counts(normalize=True)[:num_openings].index\n",
    "\n",
    "    ax[3].bar(x, games_played_black)\n",
    "    ax[3].set_title(f'{num_openings} Most Frequently Played Openings as Black')\n",
    "    ax[3].set_xticks(x)\n",
    "    ax[3].set_xticklabels(openings_black)\n",
    "\n",
    "    fig.tight_layout();\n",
    "\n",
    "chess_graphs(df, resample='D')"
   ]
  },
  {
   "cell_type": "code",
   "execution_count": null,
   "metadata": {},
   "outputs": [],
   "source": [
    "def openings(df, color='both', min_games=0.03, resample='W'):\n",
    "    '''Return a graph of elo on the right x axis and frequency of openings played on the left axis over time (weeks)\n",
    "    Params\n",
    "        df: pandas dataframe\n",
    "        color: Filter games by color played, white or black. Default is both.\n",
    "        min_games: Filter openings displayed by a minimum percentage of total games played. Default is 3%, meaning\n",
    "                   openings which were played less than 3% of the total games played are omitted'''\n",
    "    \n",
    "    blitz_chess_df = df[(df['rules'] == 'chess') & (df['time_class'] == 'blitz')]\n",
    "    \n",
    "    fig, ax1 = plt.subplots(figsize=(20, 10))\n",
    "\n",
    "    ax2 = ax1.twinx()\n",
    "\n",
    "    if color == 'both':\n",
    "        color_df = blitz_chess_df\n",
    "    elif (color == 'white') or (color == 'black'):\n",
    "        color_df = blitz_chess_df[blitz_chess_df['player_color'] == color]\n",
    "\n",
    "    openings = color_df['eco'].unique()\n",
    "\n",
    "    total_games = color_df.size\n",
    "    games_per_week = color_df.resample(resample, on='end_time').size()\n",
    "\n",
    "    ax1.plot(color_df.resample(resample, on='end_time').mean()['player_rating'].fillna(method='ffill'), color='black', linestyle=':')\n",
    "    ax1.set_ylabel('Elo', color='black')\n",
    "\n",
    "    for opening in openings:\n",
    "        games_with_opening = color_df[color_df['eco'] == opening].size\n",
    "        percentage_of_games_with_opening = games_with_opening / total_games\n",
    "\n",
    "        if (percentage_of_games_with_opening) > min_games:\n",
    "            ax2.plot(color_df[color_df.eco == opening].resample(resample, on='end_time').size(),label=eco_names[opening])\n",
    "            ax2.set_ylabel('Opening Frequency')\n",
    "            ax2.legend()\n",
    "            \n",
    "openings(df)"
   ]
  },
  {
   "cell_type": "code",
   "execution_count": null,
   "metadata": {},
   "outputs": [],
   "source": [
    "blitz_chess_df = df[(df['rules'] == 'chess') & (df['time_class'] == 'blitz')]\n",
    "\n",
    "y_plot = int(len(popular_openings) / 2)\n",
    "\n",
    "fig, ax1 = plt.subplots(y_plot, 2, figsize=(20, 4*y_plot), sharey='all')\n",
    "\n",
    "for ax, opening in zip(ax1.flatten(), popular_openings):\n",
    "    ax2 = ax.twinx()\n",
    "\n",
    "    ax2.plot((blitz_chess_df[blitz_chess_df.eco == opening].resample('W', on='end_time').size() /\n",
    "              blitz_chess_df.resample('W', on='end_time').size()).fillna(0),\n",
    "             'forestgreen')\n",
    "    ax2.set_ylabel(f'Percentage of Games played with {opening}', color='forestgreen')\n",
    "\n",
    "    ax.plot(blitz_chess_df.resample('W', on='end_time').mean()['player_rating'].fillna(method='ffill'), 'darkblue')\n",
    "    ax.set_ylabel('Elo', color='darkblue')\n",
    "    ax.set_title(opening)\n",
    "    \n",
    "    fig.tight_layout()"
   ]
  },
  {
   "cell_type": "code",
   "execution_count": null,
   "metadata": {},
   "outputs": [],
   "source": [
    "fig, ax1 = plt.subplots(figsize=(10,5))\n",
    "\n",
    "x = blitz_chess_df.resample('W', on='end_time').sum().index\n",
    "y = blitz_chess_df.resample('W', on='end_time').size()\n",
    "\n",
    "ax2 = ax1.twinx()\n",
    "\n",
    "ax2.plot(y, 'forestgreen', alpha=.5)\n",
    "ax2.fill_between(x, 0, y, alpha=.1, color='forestgreen')\n",
    "ax2.set_ylabel('Number of Games per Week', color='forestgreen')\n",
    "\n",
    "ax1.plot(blitz_chess_df.resample('W', on='end_time').mean()['player_rating'].fillna(method='ffill'), 'darkblue')\n",
    "ax1.set_ylabel('Elo', color='darkblue')\n",
    "         \n",
    "fig.tight_layout()"
   ]
  },
  {
   "cell_type": "code",
   "execution_count": null,
   "metadata": {},
   "outputs": [],
   "source": [
    "color_df = df[(df['rules'] == 'chess') & (df['time_class'] == 'blitz')]\n",
    "\n",
    "openings_ = color_df['eco'].unique()\n",
    "total_games = color_df.size\n",
    "\n",
    "num_openings = 10\n",
    "game_freq = []\n",
    "for opening in openings_:\n",
    "    games_with_opening = color_df[color_df['eco'] == opening].size\n",
    "    game_freq.append(games_with_opening / total_games)\n",
    "\n",
    "popular_openings = []\n",
    "for idx in np.argsort(game_freq)[:-(num_openings+1):-1]:\n",
    "    popular_openings.append(openings_[idx])\n",
    "\n",
    "fig, ax = plt.subplots(figsize=(15, 6))\n",
    "\n",
    "for opening in popular_openings:\n",
    "\n",
    "    ax.plot((color_df[color_df.eco == opening].resample('W', on='end_time').size() /\n",
    "              color_df.resample('W', on='end_time').size()).fillna(0),\n",
    "           label=eco_names[opening],\n",
    "           alpha=.7)\n",
    "    ax.set_ylabel('Percentage of Games played')\n",
    "    ax.set_title(f'Relative Frequency of the Top {num_openings} Openings')\n",
    "    ax.legend()\n",
    "    \n",
    "    fig.tight_layout()"
   ]
  },
  {
   "cell_type": "code",
   "execution_count": null,
   "metadata": {},
   "outputs": [],
   "source": [
    "df.time_class.unique()"
   ]
  },
  {
   "cell_type": "code",
   "execution_count": null,
   "metadata": {},
   "outputs": [],
   "source": [
    "game_freq[42]"
   ]
  },
  {
   "cell_type": "code",
   "execution_count": null,
   "metadata": {},
   "outputs": [],
   "source": [
    "file = open('/Users/bmcgarry/galvanize/ChessCapstone/ChessStyle/data/eco_codes.txt', 'r')\n",
    "eco_names = {}\n",
    "for idx, line in enumerate(file):\n",
    "    if idx % 2 == 0:\n",
    "        eco_names[line[:3]] = line[4:-1]\n",
    "    else:\n",
    "        eco_names[line]"
   ]
  },
  {
   "cell_type": "code",
   "execution_count": null,
   "metadata": {},
   "outputs": [],
   "source": [
    "eco_names['E09']"
   ]
  },
  {
   "cell_type": "code",
   "execution_count": null,
   "metadata": {},
   "outputs": [],
   "source": [
    "#open dict of eco labels and names\n",
    "def eco_labels(filepath):\n",
    "    with open(filepath) as infile:\n",
    "        eco_names = json.load(infile)\n",
    "    return eco_names"
   ]
  },
  {
   "cell_type": "code",
   "execution_count": null,
   "metadata": {},
   "outputs": [],
   "source": [
    "eco_names = eco_labels('../data/eco_names.json')"
   ]
  },
  {
   "cell_type": "code",
   "execution_count": null,
   "metadata": {},
   "outputs": [],
   "source": [
    "pwd"
   ]
  },
  {
   "cell_type": "code",
   "execution_count": null,
   "metadata": {},
   "outputs": [],
   "source": []
  }
 ],
 "metadata": {
  "kernelspec": {
   "display_name": "py36",
   "language": "python",
   "name": "py36"
  },
  "language_info": {
   "codemirror_mode": {
    "name": "ipython",
    "version": 3
   },
   "file_extension": ".py",
   "mimetype": "text/x-python",
   "name": "python",
   "nbconvert_exporter": "python",
   "pygments_lexer": "ipython3",
   "version": "3.6.4"
  }
 },
 "nbformat": 4,
 "nbformat_minor": 2
}
