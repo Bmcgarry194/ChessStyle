{
 "cells": [
  {
   "cell_type": "code",
   "execution_count": 35,
   "metadata": {},
   "outputs": [],
   "source": [
    "import clean_data\n",
    "from lifelines import KaplanMeierFitter, NelsonAalenFitter"
   ]
  },
  {
   "cell_type": "code",
   "execution_count": 2,
   "metadata": {},
   "outputs": [
    {
     "name": "stdout",
     "output_type": "stream",
     "text": [
      "import data from mongoDB to pandas dataframe\n"
     ]
    }
   ],
   "source": [
    "df = clean_data.create_df_from_mongo()"
   ]
  },
  {
   "cell_type": "code",
   "execution_count": 66,
   "metadata": {},
   "outputs": [],
   "source": [
    "sample_df = df.loc[:100, :]"
   ]
  },
  {
   "cell_type": "code",
   "execution_count": 56,
   "metadata": {},
   "outputs": [],
   "source": [
    "max_value = 1526169600 - 1514764800"
   ]
  },
  {
   "cell_type": "markdown",
   "metadata": {},
   "source": [
    "The purpose of this notebook is to use the Lifelines module to do some user segmentation on the chess.com dataset\n",
    "\n",
    "Things I need to do:\n",
    "1. Get the first and last games played by each player (determine duration of users time on site)\n",
    "2. what period of time of inactivity will I consider death (2 weeks without a game?)\n",
    "3. make some graphs\n",
    "4. segment population\n",
    "\n",
    "\n",
    "loop through all games by an individual\n",
    "    if the diff in time between the next game or current time is greater than two weeks:\n",
    "        take the last time as the 'death' event\n",
    "'birth' event = sign up date (maybe first game?)\n",
    "duration of user 'life' = death time - birth time"
   ]
  },
  {
   "cell_type": "code",
   "execution_count": 3,
   "metadata": {},
   "outputs": [],
   "source": [
    "def game_end_time(df, player, month, game):\n",
    "    '''returns type of time control if the game was played within the first 30 days'''\n",
    "    return df['games'][player][month][0]['games'][game]['end_time']\n",
    "\n",
    "def user_lifetimes(df):\n",
    "    end_time = 1526169600\n",
    "    player_idxes = range(df.shape[0])\n",
    "    all_times = []\n",
    "    for player in player_idxes:\n",
    "        time_of_games = []\n",
    "        for month in range(5):\n",
    "            try:\n",
    "                for game in range(clean_data.games_in_a_month(df, player, month)):\n",
    "                    time_of_games.append(game_end_time(df, player, month, game))\n",
    "            except (KeyError, IndexError):\n",
    "                continue\n",
    "        if time_of_games:\n",
    "            birth = time_of_games[0]\n",
    "            death = duration(time_of_games)\n",
    "            if not death:\n",
    "                still_alive = time_of_games[-1] - birth\n",
    "                all_times.append((still_alive, player, False))\n",
    "            else:\n",
    "                all_times.append(((death - birth), player, True))\n",
    "        else:\n",
    "            all_times.append((0, player, True))\n",
    "    return all_times\n",
    "\n",
    "def duration(time_of_games):\n",
    "    seconds_in_two_weeks = 604800\n",
    "    for i, x in enumerate(time_of_games):\n",
    "        if x - time_of_games[i - 1] > seconds_in_two_weeks:\n",
    "            return time_of_games[i - 1]"
   ]
  },
  {
   "cell_type": "code",
   "execution_count": 4,
   "metadata": {},
   "outputs": [],
   "source": [
    "user_times = user_lifetimes(df)"
   ]
  },
  {
   "cell_type": "code",
   "execution_count": 36,
   "metadata": {},
   "outputs": [
    {
     "name": "stdout",
     "output_type": "stream",
     "text": [
      "None\n",
      "15\n",
      "25\n",
      "0\n",
      "1\n",
      "1516154262\n"
     ]
    }
   ],
   "source": [
    "def fake_death_time(time_of_games):\n",
    "    seconds_in_two_weeks = 50\n",
    "    times = duration(time_of_games)\n",
    "    if times:\n",
    "        return times[0]\n",
    "    else:\n",
    "        return time_of_games[-1] - time_of_games[0]\n",
    "        \n",
    "nums = [[2, 5, 10, 16, 24], [0, 2, 7, 8, 15, 100], [23, 25, 100, 102, 103], [], [1, 10000, 200000], [1516154262, 1516318955, 1516320601, 1516320864, 1516321154, 1516321416, 1516322103, 1516322534, 1516322614, 1516323629, 1522709922, 1522722105, 1522794278, 1522886378, 1523065535, 1523066047, 1523143799, 1523144383, 1523207447, 1523727492, 1523728070, 1523821548, 1523821610, 1523821718, 1523822394, 1524323057, 1524323888, 1524324698, 1524341290, 1524342351, 1524343346, 1524959707, 1524960033, 1525819501, 1525820389]]\n",
    "for num in nums:\n",
    "    if num:\n",
    "#         print(death_time(num))\n",
    "        print(duration(num))\n",
    "    else:\n",
    "        print(0)"
   ]
  },
  {
   "cell_type": "code",
   "execution_count": 95,
   "metadata": {},
   "outputs": [],
   "source": [
    "def duration(time_of_games):\n",
    "    seconds_in_two_weeks = 604800\n",
    "    for i, x in enumerate(time_of_games):\n",
    "        if x - time_of_games[i - 1] > seconds_in_two_weeks:\n",
    "            return time_of_games[i - 1]"
   ]
  },
  {
   "cell_type": "code",
   "execution_count": 35,
   "metadata": {},
   "outputs": [
    {
     "name": "stdout",
     "output_type": "stream",
     "text": [
      "not_empty\n"
     ]
    }
   ],
   "source": [
    "all_times[player]"
   ]
  },
  {
   "cell_type": "code",
   "execution_count": 25,
   "metadata": {},
   "outputs": [],
   "source": [
    "for duration_, player, death_observed in user_lifetimes(df):\n",
    "    df.loc[player, 'duration_days'] = duration_ / 86400 \n",
    "    df.loc[player, 'death_observed'] = death_observed"
   ]
  },
  {
   "cell_type": "code",
   "execution_count": 26,
   "metadata": {},
   "outputs": [
    {
     "data": {
      "text/html": [
       "<div>\n",
       "<style scoped>\n",
       "    .dataframe tbody tr th:only-of-type {\n",
       "        vertical-align: middle;\n",
       "    }\n",
       "\n",
       "    .dataframe tbody tr th {\n",
       "        vertical-align: top;\n",
       "    }\n",
       "\n",
       "    .dataframe thead th {\n",
       "        text-align: right;\n",
       "    }\n",
       "</style>\n",
       "<table border=\"1\" class=\"dataframe\">\n",
       "  <thead>\n",
       "    <tr style=\"text-align: right;\">\n",
       "      <th></th>\n",
       "      <th>player_id</th>\n",
       "      <th>duration_days</th>\n",
       "      <th>death_observed</th>\n",
       "    </tr>\n",
       "  </thead>\n",
       "  <tbody>\n",
       "    <tr>\n",
       "      <th>0</th>\n",
       "      <td>42361082</td>\n",
       "      <td>1.960266</td>\n",
       "      <td>True</td>\n",
       "    </tr>\n",
       "    <tr>\n",
       "      <th>1</th>\n",
       "      <td>42121838</td>\n",
       "      <td>123.472072</td>\n",
       "      <td>False</td>\n",
       "    </tr>\n",
       "    <tr>\n",
       "      <th>2</th>\n",
       "      <td>42324950</td>\n",
       "      <td>0.000000</td>\n",
       "      <td>True</td>\n",
       "    </tr>\n",
       "    <tr>\n",
       "      <th>3</th>\n",
       "      <td>42192576</td>\n",
       "      <td>4.292639</td>\n",
       "      <td>True</td>\n",
       "    </tr>\n",
       "    <tr>\n",
       "      <th>4</th>\n",
       "      <td>42332948</td>\n",
       "      <td>2.931146</td>\n",
       "      <td>True</td>\n",
       "    </tr>\n",
       "    <tr>\n",
       "      <th>5</th>\n",
       "      <td>42762076</td>\n",
       "      <td>106.640938</td>\n",
       "      <td>False</td>\n",
       "    </tr>\n",
       "    <tr>\n",
       "      <th>6</th>\n",
       "      <td>42165872</td>\n",
       "      <td>124.921123</td>\n",
       "      <td>False</td>\n",
       "    </tr>\n",
       "    <tr>\n",
       "      <th>7</th>\n",
       "      <td>42530248</td>\n",
       "      <td>64.847269</td>\n",
       "      <td>False</td>\n",
       "    </tr>\n",
       "    <tr>\n",
       "      <th>8</th>\n",
       "      <td>42824544</td>\n",
       "      <td>6.849942</td>\n",
       "      <td>True</td>\n",
       "    </tr>\n",
       "    <tr>\n",
       "      <th>9</th>\n",
       "      <td>42425796</td>\n",
       "      <td>14.127720</td>\n",
       "      <td>True</td>\n",
       "    </tr>\n",
       "    <tr>\n",
       "      <th>10</th>\n",
       "      <td>42541912</td>\n",
       "      <td>0.133588</td>\n",
       "      <td>True</td>\n",
       "    </tr>\n",
       "    <tr>\n",
       "      <th>11</th>\n",
       "      <td>42856488</td>\n",
       "      <td>50.885556</td>\n",
       "      <td>True</td>\n",
       "    </tr>\n",
       "    <tr>\n",
       "      <th>12</th>\n",
       "      <td>42689028</td>\n",
       "      <td>2.076806</td>\n",
       "      <td>True</td>\n",
       "    </tr>\n",
       "    <tr>\n",
       "      <th>13</th>\n",
       "      <td>42494908</td>\n",
       "      <td>64.991644</td>\n",
       "      <td>True</td>\n",
       "    </tr>\n",
       "    <tr>\n",
       "      <th>14</th>\n",
       "      <td>42098330</td>\n",
       "      <td>0.506921</td>\n",
       "      <td>True</td>\n",
       "    </tr>\n",
       "    <tr>\n",
       "      <th>15</th>\n",
       "      <td>42115472</td>\n",
       "      <td>59.724525</td>\n",
       "      <td>True</td>\n",
       "    </tr>\n",
       "    <tr>\n",
       "      <th>16</th>\n",
       "      <td>42460774</td>\n",
       "      <td>33.172975</td>\n",
       "      <td>True</td>\n",
       "    </tr>\n",
       "    <tr>\n",
       "      <th>17</th>\n",
       "      <td>42844440</td>\n",
       "      <td>104.091528</td>\n",
       "      <td>False</td>\n",
       "    </tr>\n",
       "    <tr>\n",
       "      <th>18</th>\n",
       "      <td>42388332</td>\n",
       "      <td>32.847141</td>\n",
       "      <td>True</td>\n",
       "    </tr>\n",
       "    <tr>\n",
       "      <th>19</th>\n",
       "      <td>41946976</td>\n",
       "      <td>72.376493</td>\n",
       "      <td>True</td>\n",
       "    </tr>\n",
       "    <tr>\n",
       "      <th>20</th>\n",
       "      <td>42841134</td>\n",
       "      <td>6.157546</td>\n",
       "      <td>True</td>\n",
       "    </tr>\n",
       "    <tr>\n",
       "      <th>21</th>\n",
       "      <td>42602166</td>\n",
       "      <td>94.803079</td>\n",
       "      <td>False</td>\n",
       "    </tr>\n",
       "    <tr>\n",
       "      <th>22</th>\n",
       "      <td>42519938</td>\n",
       "      <td>113.968345</td>\n",
       "      <td>False</td>\n",
       "    </tr>\n",
       "    <tr>\n",
       "      <th>23</th>\n",
       "      <td>42495974</td>\n",
       "      <td>56.561042</td>\n",
       "      <td>False</td>\n",
       "    </tr>\n",
       "    <tr>\n",
       "      <th>24</th>\n",
       "      <td>42138188</td>\n",
       "      <td>49.813750</td>\n",
       "      <td>True</td>\n",
       "    </tr>\n",
       "    <tr>\n",
       "      <th>25</th>\n",
       "      <td>42196706</td>\n",
       "      <td>5.153935</td>\n",
       "      <td>True</td>\n",
       "    </tr>\n",
       "    <tr>\n",
       "      <th>26</th>\n",
       "      <td>42352378</td>\n",
       "      <td>117.073021</td>\n",
       "      <td>False</td>\n",
       "    </tr>\n",
       "    <tr>\n",
       "      <th>27</th>\n",
       "      <td>42049144</td>\n",
       "      <td>128.489352</td>\n",
       "      <td>False</td>\n",
       "    </tr>\n",
       "    <tr>\n",
       "      <th>28</th>\n",
       "      <td>41913444</td>\n",
       "      <td>35.259525</td>\n",
       "      <td>True</td>\n",
       "    </tr>\n",
       "    <tr>\n",
       "      <th>29</th>\n",
       "      <td>42720322</td>\n",
       "      <td>0.000000</td>\n",
       "      <td>False</td>\n",
       "    </tr>\n",
       "    <tr>\n",
       "      <th>...</th>\n",
       "      <td>...</td>\n",
       "      <td>...</td>\n",
       "      <td>...</td>\n",
       "    </tr>\n",
       "    <tr>\n",
       "      <th>1423</th>\n",
       "      <td>42047104</td>\n",
       "      <td>4.319479</td>\n",
       "      <td>True</td>\n",
       "    </tr>\n",
       "    <tr>\n",
       "      <th>1424</th>\n",
       "      <td>42851584</td>\n",
       "      <td>2.165301</td>\n",
       "      <td>True</td>\n",
       "    </tr>\n",
       "    <tr>\n",
       "      <th>1425</th>\n",
       "      <td>41936270</td>\n",
       "      <td>0.000000</td>\n",
       "      <td>True</td>\n",
       "    </tr>\n",
       "    <tr>\n",
       "      <th>1426</th>\n",
       "      <td>42725190</td>\n",
       "      <td>1.034850</td>\n",
       "      <td>True</td>\n",
       "    </tr>\n",
       "    <tr>\n",
       "      <th>1427</th>\n",
       "      <td>42640604</td>\n",
       "      <td>48.939977</td>\n",
       "      <td>True</td>\n",
       "    </tr>\n",
       "    <tr>\n",
       "      <th>1428</th>\n",
       "      <td>42650230</td>\n",
       "      <td>109.770278</td>\n",
       "      <td>False</td>\n",
       "    </tr>\n",
       "    <tr>\n",
       "      <th>1429</th>\n",
       "      <td>42122974</td>\n",
       "      <td>61.220359</td>\n",
       "      <td>True</td>\n",
       "    </tr>\n",
       "    <tr>\n",
       "      <th>1430</th>\n",
       "      <td>42669994</td>\n",
       "      <td>59.218275</td>\n",
       "      <td>True</td>\n",
       "    </tr>\n",
       "    <tr>\n",
       "      <th>1431</th>\n",
       "      <td>42716026</td>\n",
       "      <td>102.228750</td>\n",
       "      <td>False</td>\n",
       "    </tr>\n",
       "    <tr>\n",
       "      <th>1432</th>\n",
       "      <td>41938562</td>\n",
       "      <td>13.010822</td>\n",
       "      <td>True</td>\n",
       "    </tr>\n",
       "    <tr>\n",
       "      <th>1433</th>\n",
       "      <td>42551494</td>\n",
       "      <td>0.000000</td>\n",
       "      <td>True</td>\n",
       "    </tr>\n",
       "    <tr>\n",
       "      <th>1434</th>\n",
       "      <td>42828544</td>\n",
       "      <td>2.937500</td>\n",
       "      <td>True</td>\n",
       "    </tr>\n",
       "    <tr>\n",
       "      <th>1435</th>\n",
       "      <td>42550406</td>\n",
       "      <td>104.914282</td>\n",
       "      <td>False</td>\n",
       "    </tr>\n",
       "    <tr>\n",
       "      <th>1436</th>\n",
       "      <td>42692824</td>\n",
       "      <td>77.700961</td>\n",
       "      <td>True</td>\n",
       "    </tr>\n",
       "    <tr>\n",
       "      <th>1437</th>\n",
       "      <td>42622836</td>\n",
       "      <td>109.700937</td>\n",
       "      <td>False</td>\n",
       "    </tr>\n",
       "    <tr>\n",
       "      <th>1438</th>\n",
       "      <td>42688600</td>\n",
       "      <td>0.000000</td>\n",
       "      <td>True</td>\n",
       "    </tr>\n",
       "    <tr>\n",
       "      <th>1439</th>\n",
       "      <td>42398314</td>\n",
       "      <td>16.646412</td>\n",
       "      <td>True</td>\n",
       "    </tr>\n",
       "    <tr>\n",
       "      <th>1440</th>\n",
       "      <td>42234032</td>\n",
       "      <td>0.000000</td>\n",
       "      <td>True</td>\n",
       "    </tr>\n",
       "    <tr>\n",
       "      <th>1441</th>\n",
       "      <td>42590214</td>\n",
       "      <td>62.548576</td>\n",
       "      <td>True</td>\n",
       "    </tr>\n",
       "    <tr>\n",
       "      <th>1442</th>\n",
       "      <td>41941054</td>\n",
       "      <td>1.747187</td>\n",
       "      <td>True</td>\n",
       "    </tr>\n",
       "    <tr>\n",
       "      <th>1443</th>\n",
       "      <td>42273408</td>\n",
       "      <td>121.414410</td>\n",
       "      <td>False</td>\n",
       "    </tr>\n",
       "    <tr>\n",
       "      <th>1444</th>\n",
       "      <td>42784068</td>\n",
       "      <td>2.714039</td>\n",
       "      <td>True</td>\n",
       "    </tr>\n",
       "    <tr>\n",
       "      <th>1445</th>\n",
       "      <td>42304470</td>\n",
       "      <td>119.185729</td>\n",
       "      <td>False</td>\n",
       "    </tr>\n",
       "    <tr>\n",
       "      <th>1446</th>\n",
       "      <td>42161304</td>\n",
       "      <td>123.998333</td>\n",
       "      <td>False</td>\n",
       "    </tr>\n",
       "    <tr>\n",
       "      <th>1447</th>\n",
       "      <td>42677522</td>\n",
       "      <td>108.995810</td>\n",
       "      <td>False</td>\n",
       "    </tr>\n",
       "    <tr>\n",
       "      <th>1448</th>\n",
       "      <td>42609416</td>\n",
       "      <td>83.747315</td>\n",
       "      <td>True</td>\n",
       "    </tr>\n",
       "    <tr>\n",
       "      <th>1449</th>\n",
       "      <td>42656126</td>\n",
       "      <td>109.732674</td>\n",
       "      <td>False</td>\n",
       "    </tr>\n",
       "    <tr>\n",
       "      <th>1450</th>\n",
       "      <td>42820462</td>\n",
       "      <td>1.033843</td>\n",
       "      <td>True</td>\n",
       "    </tr>\n",
       "    <tr>\n",
       "      <th>1451</th>\n",
       "      <td>42335082</td>\n",
       "      <td>42.238947</td>\n",
       "      <td>True</td>\n",
       "    </tr>\n",
       "    <tr>\n",
       "      <th>1452</th>\n",
       "      <td>41966706</td>\n",
       "      <td>14.330590</td>\n",
       "      <td>True</td>\n",
       "    </tr>\n",
       "  </tbody>\n",
       "</table>\n",
       "<p>1453 rows × 3 columns</p>\n",
       "</div>"
      ],
      "text/plain": [
       "      player_id  duration_days  death_observed\n",
       "0      42361082       1.960266            True\n",
       "1      42121838     123.472072           False\n",
       "2      42324950       0.000000            True\n",
       "3      42192576       4.292639            True\n",
       "4      42332948       2.931146            True\n",
       "5      42762076     106.640938           False\n",
       "6      42165872     124.921123           False\n",
       "7      42530248      64.847269           False\n",
       "8      42824544       6.849942            True\n",
       "9      42425796      14.127720            True\n",
       "10     42541912       0.133588            True\n",
       "11     42856488      50.885556            True\n",
       "12     42689028       2.076806            True\n",
       "13     42494908      64.991644            True\n",
       "14     42098330       0.506921            True\n",
       "15     42115472      59.724525            True\n",
       "16     42460774      33.172975            True\n",
       "17     42844440     104.091528           False\n",
       "18     42388332      32.847141            True\n",
       "19     41946976      72.376493            True\n",
       "20     42841134       6.157546            True\n",
       "21     42602166      94.803079           False\n",
       "22     42519938     113.968345           False\n",
       "23     42495974      56.561042           False\n",
       "24     42138188      49.813750            True\n",
       "25     42196706       5.153935            True\n",
       "26     42352378     117.073021           False\n",
       "27     42049144     128.489352           False\n",
       "28     41913444      35.259525            True\n",
       "29     42720322       0.000000           False\n",
       "...         ...            ...             ...\n",
       "1423   42047104       4.319479            True\n",
       "1424   42851584       2.165301            True\n",
       "1425   41936270       0.000000            True\n",
       "1426   42725190       1.034850            True\n",
       "1427   42640604      48.939977            True\n",
       "1428   42650230     109.770278           False\n",
       "1429   42122974      61.220359            True\n",
       "1430   42669994      59.218275            True\n",
       "1431   42716026     102.228750           False\n",
       "1432   41938562      13.010822            True\n",
       "1433   42551494       0.000000            True\n",
       "1434   42828544       2.937500            True\n",
       "1435   42550406     104.914282           False\n",
       "1436   42692824      77.700961            True\n",
       "1437   42622836     109.700937           False\n",
       "1438   42688600       0.000000            True\n",
       "1439   42398314      16.646412            True\n",
       "1440   42234032       0.000000            True\n",
       "1441   42590214      62.548576            True\n",
       "1442   41941054       1.747187            True\n",
       "1443   42273408     121.414410           False\n",
       "1444   42784068       2.714039            True\n",
       "1445   42304470     119.185729           False\n",
       "1446   42161304     123.998333           False\n",
       "1447   42677522     108.995810           False\n",
       "1448   42609416      83.747315            True\n",
       "1449   42656126     109.732674           False\n",
       "1450   42820462       1.033843            True\n",
       "1451   42335082      42.238947            True\n",
       "1452   41966706      14.330590            True\n",
       "\n",
       "[1453 rows x 3 columns]"
      ]
     },
     "execution_count": 26,
     "metadata": {},
     "output_type": "execute_result"
    }
   ],
   "source": [
    "df[['player_id', 'duration_days', 'death_observed']]"
   ]
  },
  {
   "cell_type": "code",
   "execution_count": 17,
   "metadata": {},
   "outputs": [
    {
     "data": {
      "text/plain": [
       "0         47.046389\n",
       "1       2963.329722\n",
       "3        103.023333\n",
       "4         70.347500\n",
       "5       2559.382500\n",
       "6       2998.106944\n",
       "7       1556.334444\n",
       "8        164.398611\n",
       "9        339.065278\n",
       "10         3.206111\n",
       "11      1221.253333\n",
       "12        49.843333\n",
       "13      1559.799444\n",
       "14        12.166111\n",
       "15      1433.388611\n",
       "16       796.151389\n",
       "17      2498.196667\n",
       "18       788.331389\n",
       "19      1737.035833\n",
       "20       147.781111\n",
       "21      2275.273889\n",
       "22      2735.240278\n",
       "23      1357.465000\n",
       "24      1195.530000\n",
       "25       123.694444\n",
       "26      2809.752500\n",
       "27      3083.744444\n",
       "28       846.228611\n",
       "31       199.189722\n",
       "32         0.611667\n",
       "           ...     \n",
       "1419     965.934444\n",
       "1420     941.739167\n",
       "1421    2976.210556\n",
       "1422     903.668611\n",
       "1423     103.667500\n",
       "1424      51.967222\n",
       "1426      24.836389\n",
       "1427    1174.559444\n",
       "1428    2634.486667\n",
       "1429    1469.288611\n",
       "1430    1421.238611\n",
       "1431    2453.490000\n",
       "1432     312.259722\n",
       "1434      70.500000\n",
       "1435    2517.942778\n",
       "1436    1864.823056\n",
       "1437    2632.822500\n",
       "1439     399.513889\n",
       "1441    1501.165833\n",
       "1442      41.932500\n",
       "1443    2913.945833\n",
       "1444      65.136944\n",
       "1445    2860.457500\n",
       "1446    2975.960000\n",
       "1447    2615.899444\n",
       "1448    2009.935556\n",
       "1449    2633.584167\n",
       "1450      24.812222\n",
       "1451    1013.734722\n",
       "1452     343.934167\n",
       "Name: duration_days, Length: 1210, dtype: float64"
      ]
     },
     "execution_count": 17,
     "metadata": {},
     "output_type": "execute_result"
    }
   ],
   "source": [
    "df[df['duration_days'] != 0]['duration_days']"
   ]
  },
  {
   "cell_type": "code",
   "execution_count": 27,
   "metadata": {},
   "outputs": [
    {
     "data": {
      "text/plain": [
       "<matplotlib.axes._subplots.AxesSubplot at 0x1a63ceb4a8>"
      ]
     },
     "execution_count": 27,
     "metadata": {},
     "output_type": "execute_result"
    },
    {
     "data": {
      "image/png": "[encoded data removed]",
      "text/plain": [
       "<matplotlib.figure.Figure at 0x1a7ba258d0>"
      ]
     },
     "metadata": {},
     "output_type": "display_data"
    }
   ],
   "source": [
    "df['duration_days'].hist(bins=100)"
   ]
  },
  {
   "cell_type": "code",
   "execution_count": 28,
   "metadata": {},
   "outputs": [
    {
     "data": {
      "text/plain": [
       "<lifelines.KaplanMeierFitter: fitted with 1210 observations, 427 censored>"
      ]
     },
     "execution_count": 28,
     "metadata": {},
     "output_type": "execute_result"
    }
   ],
   "source": [
    "kmf = KaplanMeierFitter()\n",
    "\n",
    "T = df[df['duration_days'] != 0]['duration_days']\n",
    "E = df[df['duration_days'] != 0]['death_observed']\n",
    "\n",
    "kmf.fit(T, event_observed=E)"
   ]
  },
  {
   "cell_type": "code",
   "execution_count": 31,
   "metadata": {},
   "outputs": [
    {
     "data": {
      "text/plain": [
       "Text(0.5,1,'Survival Function of Chess.com Users')"
      ]
     },
     "execution_count": 31,
     "metadata": {},
     "output_type": "execute_result"
    },
    {
     "data": {
      "image/png": "[encoded data removed]",
      "text/plain": [
       "<matplotlib.figure.Figure at 0x1a83a12470>"
      ]
     },
     "metadata": {},
     "output_type": "display_data"
    }
   ],
   "source": [
    "kmf.survival_function_.plot(figsize=(10, 5))\n",
    "plt.title('Survival Function of Chess.com Users')"
   ]
  },
  {
   "cell_type": "code",
   "execution_count": 32,
   "metadata": {},
   "outputs": [
    {
     "data": {
      "image/png": "[encoded data removed]",
      "text/plain": [
       "<matplotlib.figure.Figure at 0x1a83d60ac8>"
      ]
     },
     "metadata": {},
     "output_type": "display_data"
    }
   ],
   "source": [
    "kmf.plot(figsize=(10, 5));"
   ]
  },
  {
   "cell_type": "code",
   "execution_count": 36,
   "metadata": {},
   "outputs": [
    {
     "data": {
      "text/plain": [
       "<lifelines.NelsonAalenFitter: fitted with 1210 observations, 427 censored>"
      ]
     },
     "execution_count": 36,
     "metadata": {},
     "output_type": "execute_result"
    }
   ],
   "source": [
    "naf = NelsonAalenFitter()\n",
    "\n",
    "naf.fit(T,event_observed=E)"
   ]
  },
  {
   "cell_type": "code",
   "execution_count": 39,
   "metadata": {},
   "outputs": [
    {
     "data": {
      "text/plain": [
       "<matplotlib.axes._subplots.AxesSubplot at 0x1a83dfcf98>"
      ]
     },
     "execution_count": 39,
     "metadata": {},
     "output_type": "execute_result"
    },
    {
     "data": {
      "image/png": "[encoded data removed]",
      "text/plain": [
       "<matplotlib.figure.Figure at 0x1a84d8e6a0>"
      ]
     },
     "metadata": {},
     "output_type": "display_data"
    }
   ],
   "source": [
    "naf.plot(figsize=(10, 5))"
   ]
  },
  {
   "cell_type": "code",
   "execution_count": null,
   "metadata": {},
   "outputs": [],
   "source": []
  }
 ],
 "metadata": {
  "kernelspec": {
   "display_name": "py36",
   "language": "python",
   "name": "py36"
  },
  "language_info": {
   "codemirror_mode": {
    "name": "ipython",
    "version": 3
   },
   "file_extension": ".py",
   "mimetype": "text/x-python",
   "name": "python",
   "nbconvert_exporter": "python",
   "pygments_lexer": "ipython3",
   "version": "3.6.4"
  }
 },
 "nbformat": 4,
 "nbformat_minor": 2
}
