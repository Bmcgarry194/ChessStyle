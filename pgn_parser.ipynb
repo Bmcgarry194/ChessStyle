{
 "cells": [
  {
   "cell_type": "code",
   "execution_count": 1,
   "metadata": {},
   "outputs": [],
   "source": [
    "pgn_file = 'data/example_pgn.pgn'"
   ]
  },
  {
   "cell_type": "code",
   "execution_count": 69,
   "metadata": {},
   "outputs": [],
   "source": [
    "game={}\n",
    "pgn = []\n",
    "\n",
    "pgn_file = 'data/example_pgn.pgn'\n",
    "\n",
    "with open(pgn_file,'r') as datafile:\n",
    "    for line in datafile:\n",
    "        if line.startswith('[Event'):\n",
    "            \n",
    "            label, value = line[1:-1].split(' ',1)\n",
    "            game[str(label).lower()] = value.replace(\"]\",\"\").strip('\"') \n",
    "        else:\n",
    "            game['pgn'] = line\n",
    "            \n"
   ]
  },
  {
   "cell_type": "code",
   "execution_count": 273,
   "metadata": {},
   "outputs": [
    {
     "data": {
      "text/plain": [
       "\"Headers(Event='New Orleans', Site='New Orleans', Date='1848.??.??', Round='?', White='Morphy, Paul ', Black='Morphy, Alonzo', Result='1-0', BlackElo='', ECO='C23', WhiteElo='')\""
      ]
     },
     "execution_count": 273,
     "metadata": {},
     "output_type": "execute_result"
    }
   ],
   "source": [
    "ex_pgn = open('Morphy.pgn')\n",
    "str(chess.pgn.read_game(ex_pgn).headers)\n"
   ]
  },
  {
   "cell_type": "code",
   "execution_count": 212,
   "metadata": {
    "collapsed": true
   },
   "outputs": [
    {
     "data": {
      "text/plain": [
       "['e2e4',\n",
       " 'e7e5',\n",
       " 'f1c4',\n",
       " 'f7f5',\n",
       " 'e4f5',\n",
       " 'g8f6',\n",
       " 'b1c3',\n",
       " 'd7d5',\n",
       " 'c3d5',\n",
       " 'f8c5',\n",
       " 'd5f6',\n",
       " 'd8f6',\n",
       " 'd2d3',\n",
       " 'c8f5',\n",
       " 'g1f3',\n",
       " 'f5g4',\n",
       " 'c4d5',\n",
       " 'c7c6',\n",
       " 'd5e4',\n",
       " 'b8d7',\n",
       " 'e1g1',\n",
       " 'h7h6',\n",
       " 'c2c3',\n",
       " 'e8c8',\n",
       " 'b2b4',\n",
       " 'c5b6',\n",
       " 'a2a4',\n",
       " 'a7a6',\n",
       " 'd1b3',\n",
       " 'g4f3',\n",
       " 'e4f3',\n",
       " 'g7g5',\n",
       " 'c1e3',\n",
       " 'g5g4',\n",
       " 'f3g4',\n",
       " 'b6c7',\n",
       " 'g4f3',\n",
       " 'h8g8',\n",
       " 'f3e4',\n",
       " 'g8g4',\n",
       " 'f2f3',\n",
       " 'g4g7',\n",
       " 'b4b5',\n",
       " 'a6b5',\n",
       " 'a4b5',\n",
       " 'd7b6',\n",
       " 'b5c6',\n",
       " 'd8g8',\n",
       " 'f1f2',\n",
       " 'f6d8',\n",
       " 'a1a8',\n",
       " 'c7b8',\n",
       " 'e3b6',\n",
       " 'g7g2',\n",
       " 'f2g2',\n",
       " 'g8g2',\n",
       " 'g1g2',\n",
       " 'd8g5',\n",
       " 'g2h1',\n",
       " 'g5c1',\n",
       " 'b6g1']"
      ]
     },
     "execution_count": 212,
     "metadata": {},
     "output_type": "execute_result"
    }
   ],
   "source": [
    "moves"
   ]
  },
  {
   "cell_type": "code",
   "execution_count": null,
   "metadata": {},
   "outputs": [],
   "source": [
    "Event, Site, Date, Round, White, Black, Result, BlackElo, ECO, WhiteElo"
   ]
  },
  {
   "cell_type": "code",
   "execution_count": 134,
   "metadata": {},
   "outputs": [],
   "source": [
    "import chess.pgn\n"
   ]
  },
  {
   "cell_type": "code",
   "execution_count": 158,
   "metadata": {},
   "outputs": [
    {
     "name": "stdout",
     "output_type": "stream",
     "text": [
      "[<chess.pgn.Game object at 0x10c0cf898>, <chess.pgn.Game object at 0x10c0cf940>, <chess.pgn.Game object at 0x10aed3cf8>, <chess.pgn.Game object at 0x10c00e4a8>, <chess.pgn.Game object at 0x10c009160>, <chess.pgn.Game object at 0x10c2c83c8>, <chess.pgn.Game object at 0x10c1e7cc0>, <chess.pgn.Game object at 0x10c2d9a20>, <chess.pgn.Game object at 0x10c2c8390>, <chess.pgn.Game object at 0x10b357240>, <chess.pgn.Game object at 0x10c3ddf60>, <chess.pgn.Game object at 0x10c3c4208>, <chess.pgn.Game object at 0x10c463240>, <chess.pgn.Game object at 0x10c3f8a90>, <chess.pgn.Game object at 0x10c42ee48>, <chess.pgn.Game object at 0x10c3ea0f0>, <chess.pgn.Game object at 0x10c415160>, <chess.pgn.Game object at 0x10c35e9b0>, <chess.pgn.Game object at 0x10c2d9ac8>, <chess.pgn.Game object at 0x10c6a45f8>, <chess.pgn.Game object at 0x10c6c7da0>, <chess.pgn.Game object at 0x10c6eb630>, <chess.pgn.Game object at 0x10bf99dd8>, <chess.pgn.Game object at 0x10bfb6860>, <chess.pgn.Game object at 0x10bfe2c18>, <chess.pgn.Game object at 0x10c68fe80>, <chess.pgn.Game object at 0x10c0918d0>, <chess.pgn.Game object at 0x10bb15e48>, <chess.pgn.Game object at 0x10bfe99b0>, <chess.pgn.Game object at 0x10bf767b8>]\n"
     ]
    }
   ],
   "source": [
    "with open(\"Fischer.pgn\") as pgn:\n",
    "    game_list = []\n",
    "    for game in range(30):\n",
    "        game_list.append(chess.pgn.read_game(pgn))\n",
    "print(game_list)"
   ]
  },
  {
   "cell_type": "code",
   "execution_count": 258,
   "metadata": {},
   "outputs": [],
   "source": [
    "def list_of_games_in_file(pgn_file):\n",
    "    with open(pgn_file) as pgn:\n",
    "        game_list = []\n",
    "        while chess.pgn.read_game(pgn):\n",
    "            game_list.append(chess.pgn.read_game(pgn))\n",
    "        return game_list[:-1]\n",
    "       \n",
    "\n",
    "def headers_to_dict(game):\n",
    "    result = {}\n",
    "    labels = ['Event', 'Site', 'Date', 'Round', 'White', 'Black', 'Result']\n",
    "    for label in labels:\n",
    "        result[label] = game.headers[label]\n",
    "    result['pgn'] = [str(move) for move in game.main_line()]\n",
    "    return result\n",
    "\n",
    "def pgn_file_to_df(pgn_file):\n",
    "    games = list_of_games_in_file(pgn_file)\n",
    "    games_list = []\n",
    "    for game in games:\n",
    "        games_list.append(headers_to_dict(game))\n",
    "    return pd.DataFrame(games_list)"
   ]
  },
  {
   "cell_type": "code",
   "execution_count": 259,
   "metadata": {},
   "outputs": [],
   "source": [
    "df_najdorf = pgn_file_to_df('Caruana.pgn')"
   ]
  },
  {
   "cell_type": "code",
   "execution_count": 287,
   "metadata": {
    "collapsed": true
   },
   "outputs": [
    {
     "data": {
      "text/plain": [
       "['d2d4',\n",
       " 'g8f6',\n",
       " 'g1f3',\n",
       " 'g7g6',\n",
       " 'c2c4',\n",
       " 'f8g7',\n",
       " 'b1c3',\n",
       " 'd7d5',\n",
       " 'c4d5',\n",
       " 'f6d5',\n",
       " 'e2e4',\n",
       " 'd5c3',\n",
       " 'b2c3',\n",
       " 'c7c5',\n",
       " 'f1b5',\n",
       " 'b8c6',\n",
       " 'e1g1',\n",
       " 'e8g8',\n",
       " 'c1e3',\n",
       " 'c5d4',\n",
       " 'c3d4',\n",
       " 'c8g4',\n",
       " 'b5c6',\n",
       " 'b7c6',\n",
       " 'a1c1',\n",
       " 'd8a5',\n",
       " 'd1d2',\n",
       " 'a5d2',\n",
       " 'f3d2',\n",
       " 'f8d8',\n",
       " 'd2b3',\n",
       " 'a7a5',\n",
       " 'c1c6',\n",
       " 'a5a4',\n",
       " 'b3c5',\n",
       " 'g4e2',\n",
       " 'f1e1',\n",
       " 'g7d4',\n",
       " 'c5e6',\n",
       " 'f7e6',\n",
       " 'e1e2',\n",
       " 'd4e3',\n",
       " 'f2e3',\n",
       " 'd8d1',\n",
       " 'g1f2',\n",
       " 'g8f7',\n",
       " 'f2g3',\n",
       " 'd1d6',\n",
       " 'e2c2',\n",
       " 'a8b8',\n",
       " 'c6c4']"
      ]
     },
     "execution_count": 287,
     "metadata": {},
     "output_type": "execute_result"
    }
   ],
   "source": [
    "df_najdorf['pgn'][3]"
   ]
  },
  {
   "cell_type": "code",
   "execution_count": 76,
   "metadata": {
    "scrolled": true
   },
   "outputs": [
    {
     "ename": "TypeError",
     "evalue": "'Game' object is not iterable",
     "output_type": "error",
     "traceback": [
      "\u001b[0;31m---------------------------------------------------------------------------\u001b[0m",
      "\u001b[0;31mTypeError\u001b[0m                                 Traceback (most recent call last)",
      "\u001b[0;32m<ipython-input-76-6e33e1191351>\u001b[0m in \u001b[0;36m<module>\u001b[0;34m()\u001b[0m\n\u001b[1;32m      1\u001b[0m \u001b[0mgames\u001b[0m \u001b[0;34m=\u001b[0m \u001b[0;34m[\u001b[0m\u001b[0;34m]\u001b[0m\u001b[0;34m\u001b[0m\u001b[0m\n\u001b[0;32m----> 2\u001b[0;31m \u001b[0;32mfor\u001b[0m \u001b[0mgame\u001b[0m \u001b[0;32min\u001b[0m \u001b[0mchess\u001b[0m\u001b[0;34m.\u001b[0m\u001b[0mpgn\u001b[0m\u001b[0;34m.\u001b[0m\u001b[0mread_game\u001b[0m\u001b[0;34m(\u001b[0m\u001b[0mpgn\u001b[0m\u001b[0;34m)\u001b[0m\u001b[0;34m:\u001b[0m\u001b[0;34m\u001b[0m\u001b[0m\n\u001b[0m\u001b[1;32m      3\u001b[0m     \u001b[0mgames\u001b[0m\u001b[0;34m.\u001b[0m\u001b[0mappend\u001b[0m\u001b[0;34m(\u001b[0m\u001b[0mgame\u001b[0m\u001b[0;34m)\u001b[0m\u001b[0;34m\u001b[0m\u001b[0m\n",
      "\u001b[0;31mTypeError\u001b[0m: 'Game' object is not iterable"
     ]
    }
   ],
   "source": [
    "games = []\n",
    "for game in chess.pgn.read_game(pgn):\n",
    "    games.append(game)"
   ]
  },
  {
   "cell_type": "code",
   "execution_count": 320,
   "metadata": {},
   "outputs": [],
   "source": [
    "morphy_data = pd.read_json('/Users/bmcgarry/galvanize/ChessCapstone/pgnstats/data.json', typ='series')"
   ]
  },
  {
   "cell_type": "code",
   "execution_count": 325,
   "metadata": {},
   "outputs": [],
   "source": [
    "morphy_df = pd.DataFrame(morphy_data)"
   ]
  },
  {
   "cell_type": "code",
   "execution_count": 328,
   "metadata": {},
   "outputs": [
    {
     "data": {
      "text/plain": [
       "Castling           {'White': {'Kingside': 118, 'Queenside': 11}, ...\n",
       "Dates                                     {'Min': 1848, 'Max': 1866}\n",
       "GameLengths        {'100': 2, '101': 3, '102': 2, '105': 1, '106'...\n",
       "GamesEndingWith                             {'Check': 73, 'Mate': 0}\n",
       "MaterialCount      {'0': 16458, '1': 16458, '10': 16089, '100': 6...\n",
       "MaterialDiff       {'0': 0, '1': 0, '10': -51, '100': 14, '101': ...\n",
       "Ratings                                         {'Min': 0, 'Max': 0}\n",
       "Results             {'White': 135, 'Black': 58, 'Draw': 18, 'NA': 0}\n",
       "heatmaps           {'squareUtilization': [{'all': {'w': 17, 'b': ...\n",
       "openings           {'count': 211, 'san': 'start', 'children': [{'...\n",
       "totalGames                                                       211\n",
       "dtype: object"
      ]
     },
     "execution_count": 328,
     "metadata": {},
     "output_type": "execute_result"
    }
   ],
   "source": [
    "morphy_data"
   ]
  },
  {
   "cell_type": "code",
   "execution_count": 301,
   "metadata": {},
   "outputs": [],
   "source": [
    "opening_tree = df.openings.children"
   ]
  },
  {
   "cell_type": "code",
   "execution_count": 310,
   "metadata": {},
   "outputs": [],
   "source": [
    "df_opening = pd.DataFrame(opening_tree[0])"
   ]
  }
 ],
 "metadata": {
  "kernelspec": {
   "display_name": "py36",
   "language": "python",
   "name": "py36"
  },
  "language_info": {
   "codemirror_mode": {
    "name": "ipython",
    "version": 3
   },
   "file_extension": ".py",
   "mimetype": "text/x-python",
   "name": "python",
   "nbconvert_exporter": "python",
   "pygments_lexer": "ipython3",
   "version": "3.6.4"
  }
 },
 "nbformat": 4,
 "nbformat_minor": 2
}
