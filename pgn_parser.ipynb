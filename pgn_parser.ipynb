{
 "cells": [
  {
   "cell_type": "code",
   "execution_count": 134,
   "metadata": {},
   "outputs": [],
   "source": [
    "def concat_files():\n",
    "    #concatenate pgn files to one output file all_pgn.pgn\n",
    "    filenames = ['/Users/bmcgarry/galvanize/chess_capstone/KingBase2018-pgn/KingBase2018-A00-A39.pgn', '/Users/bmcgarry/galvanize/chess_capstone/KingBase2018-pgn/KingBase2018-B00-B19.pgn', \n",
    "                 '/Users/bmcgarry/galvanize/chess_capstone/KingBase2018-pgn/KingBase2018-C00-C19.pgn', '/Users/bmcgarry/galvanize/chess_capstone/KingBase2018-pgn/KingBase2018-D00-D29.pgn', \n",
    "                 '/Users/bmcgarry/galvanize/chess_capstone/KingBase2018-pgn/KingBase2018-E00-E19.pgn', '/Users/bmcgarry/galvanize/chess_capstone/KingBase2018-pgn/KingBase2018-A40-A79.pgn', \n",
    "                 '/Users/bmcgarry/galvanize/chess_capstone/KingBase2018-pgn/KingBase2018-B20-B49.pgn', '/Users/bmcgarry/galvanize/chess_capstone/KingBase2018-pgn/KingBase2018-C20-C59.pgn', \n",
    "                 '/Users/bmcgarry/galvanize/chess_capstone/KingBase2018-pgn/KingBase2018-D30-D69.pgn', '/Users/bmcgarry/galvanize/chess_capstone/KingBase2018-pgn/KingBase2018-E20-E59.pgn', \n",
    "                 '/Users/bmcgarry/galvanize/chess_capstone/KingBase2018-pgn/KingBase2018-A80-A99.pgn', '/Users/bmcgarry/galvanize/chess_capstone/KingBase2018-pgn/KingBase2018-B50-B99.pgn', \n",
    "                 '/Users/bmcgarry/galvanize/chess_capstone/KingBase2018-pgn/KingBase2018-C60-C99.pgn', '/Users/bmcgarry/galvanize/chess_capstone/KingBase2018-pgn/KingBase2018-D70-D99.pgn', \n",
    "                 '/Users/bmcgarry/galvanize/chess_capstone/KingBase2018-pgn/KingBase2018-E60-E99.pgn']\n",
    "    with open('/Users/bmcgarry/galvanize/chess_capstone/all_pgn.pgn', 'w') as outfile:\n",
    "        for fname in filenames:\n",
    "            with open(fname) as infile:\n",
    "                try:\n",
    "                    for line in infile:\n",
    "                        outfile.write(line)\n",
    "                except:\n",
    "                    continue\n"
   ]
  },
  {
   "cell_type": "code",
   "execution_count": 135,
   "metadata": {},
   "outputs": [],
   "source": [
    "concat_files()"
   ]
  },
  {
   "cell_type": "code",
   "execution_count": 2,
   "metadata": {},
   "outputs": [
    {
     "data": {
      "text/plain": [
       "207952931"
      ]
     },
     "execution_count": 2,
     "metadata": {},
     "output_type": "execute_result"
    }
   ],
   "source": [
    "file = open('all_pgn.pgn', 'r', encoding=\"utf-8-sig\")\n",
    "len(file.read())\n"
   ]
  },
  {
   "cell_type": "code",
   "execution_count": 14,
   "metadata": {},
   "outputs": [
    {
     "ename": "KeyError",
     "evalue": "'moves'",
     "output_type": "error",
     "traceback": [
      "\u001b[0;31m---------------------------------------------------------------------------\u001b[0m",
      "\u001b[0;31mKeyError\u001b[0m                                  Traceback (most recent call last)",
      "\u001b[0;32m<ipython-input-14-8ac0000d4b0a>\u001b[0m in \u001b[0;36m<module>\u001b[0;34m()\u001b[0m\n\u001b[1;32m     15\u001b[0m             \u001b[0mgame\u001b[0m\u001b[0;34m[\u001b[0m\u001b[0mstr\u001b[0m\u001b[0;34m(\u001b[0m\u001b[0mtag\u001b[0m\u001b[0;34m)\u001b[0m\u001b[0;34m.\u001b[0m\u001b[0mlower\u001b[0m\u001b[0;34m(\u001b[0m\u001b[0;34m)\u001b[0m\u001b[0;34m]\u001b[0m\u001b[0;34m=\u001b[0m\u001b[0mvalue\u001b[0m\u001b[0;34m.\u001b[0m\u001b[0mreplace\u001b[0m\u001b[0;34m(\u001b[0m\u001b[0;34m\"]\"\u001b[0m\u001b[0;34m,\u001b[0m\u001b[0;34m\"\"\u001b[0m\u001b[0;34m)\u001b[0m\u001b[0;34m.\u001b[0m\u001b[0mstrip\u001b[0m\u001b[0;34m(\u001b[0m\u001b[0;34m'\"'\u001b[0m\u001b[0;34m)\u001b[0m\u001b[0;34m\u001b[0m\u001b[0m\n\u001b[1;32m     16\u001b[0m         \u001b[0;32melse\u001b[0m\u001b[0;34m:\u001b[0m\u001b[0;34m\u001b[0m\u001b[0m\n\u001b[0;32m---> 17\u001b[0;31m             \u001b[0mgame\u001b[0m\u001b[0;34m[\u001b[0m\u001b[0;34m'moves'\u001b[0m\u001b[0;34m]\u001b[0m \u001b[0;34m+=\u001b[0m \u001b[0mline\u001b[0m\u001b[0;34m\u001b[0m\u001b[0m\n\u001b[0m\u001b[1;32m     18\u001b[0m             \u001b[0mgames\u001b[0m\u001b[0;34m.\u001b[0m\u001b[0mappend\u001b[0m\u001b[0;34m(\u001b[0m\u001b[0mgame\u001b[0m\u001b[0;34m)\u001b[0m\u001b[0;34m\u001b[0m\u001b[0m\n",
      "\u001b[0;31mKeyError\u001b[0m: 'moves'"
     ]
    }
   ],
   "source": [
    "import sys\n",
    "  \n",
    "# sys.setdefaultencoding('utf8')\n",
    "# from __future__ import unicode_literals\n",
    "\n",
    "# game={}\n",
    "games = []\n",
    "\n",
    "pgn_file=\"all_pgn.pgn\"\n",
    "\n",
    "with open(pgn_file,'r') as datafile:\n",
    "    for line in datafile:\n",
    "        game = {}\n",
    "        if line.startswith('['):\n",
    "            tag,value=line[1:-1].split(' ',1)\n",
    "            game[str(tag).lower()]=value.replace(\"]\",\"\").strip('\"')\n",
    "        else:\n",
    "            game['moves'] = line\n",
    "            games.append(game)\n"
   ]
  },
  {
   "cell_type": "code",
   "execution_count": 13,
   "metadata": {},
   "outputs": [
    {
     "data": {
      "text/plain": [
       "{'black': 'Kessler, Luca',\n",
       " 'blackelo': '2321',\n",
       " 'date': '2015.03.20',\n",
       " 'eco': 'E92',\n",
       " 'event': 'TCh-AUT 2014-15',\n",
       " 'eventdate': '2014.11.20',\n",
       " 'moves': '29.Bxd7 Qxd7 30.Na2 a5 31.Qe3 Kh7 32.Rb2 c5 33.dxc6 Qxc6 34.Qd3 Rfb8 35.\\n',\n",
       " 'result': '1/2-1/2',\n",
       " 'round': '10.6',\n",
       " 'setup': '1',\n",
       " 'site': 'Austria AUT',\n",
       " 'white': 'Tratar, Marko',\n",
       " 'whiteelo': '2489'}"
      ]
     },
     "execution_count": 13,
     "metadata": {},
     "output_type": "execute_result"
    }
   ],
   "source": [
    "games[0]"
   ]
  },
  {
   "cell_type": "code",
   "execution_count": null,
   "metadata": {},
   "outputs": [],
   "source": [
    "line."
   ]
  }
 ],
 "metadata": {
  "kernelspec": {
   "display_name": "py36",
   "language": "python",
   "name": "py36"
  },
  "language_info": {
   "codemirror_mode": {
    "name": "ipython",
    "version": 3
   },
   "file_extension": ".py",
   "mimetype": "text/x-python",
   "name": "python",
   "nbconvert_exporter": "python",
   "pygments_lexer": "ipython3",
   "version": "3.6.4"
  }
 },
 "nbformat": 4,
 "nbformat_minor": 2
}
