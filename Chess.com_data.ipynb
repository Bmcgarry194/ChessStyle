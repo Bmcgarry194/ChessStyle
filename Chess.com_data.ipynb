{
 "cells": [
  {
   "cell_type": "code",
   "execution_count": 39,
   "metadata": {},
   "outputs": [],
   "source": [
    "import requests\n",
    "import json\n",
    "import random\n",
    "import datetime"
   ]
  },
  {
   "cell_type": "code",
   "execution_count": 2,
   "metadata": {},
   "outputs": [],
   "source": [
    "def get_player_ids_by_country(country):\n",
    "    #use the country's 2-character ISO 3166 code (capitalized) to specify which country you want data for\n",
    "    #example: United States = US\n",
    "    url = f'https://api.chess.com/pub/country/{country}/players'\n",
    "    response = requests.get(url)\n",
    "    \n",
    "    #check if the request worked\n",
    "    assert response.status_code == 200 \n",
    "    \n",
    "    #grab pgn text\n",
    "    names = str(response.content).split(',')\n",
    "    \n",
    "    return [name[1:-2] for name in names][1:]"
   ]
  },
  {
   "cell_type": "code",
   "execution_count": 53,
   "metadata": {},
   "outputs": [],
   "source": [
    "def list_of_players(country='US', time=1451606400, num_of_players=100, games_won=2):  \n",
    "    '''use the country's 2-character ISO 3166 code (capitalized) to specify which country you want data for \n",
    "    example: United States = US\n",
    "    country to get players from, default is United States\n",
    "    time = get players who joined after this time (epochtime) defualt is jan, 1 2016\n",
    "    num_of_players = number of player ids to retrieve \n",
    "    games_won = get players who have won more than a certain amount of games won in blitz, default = 2'''\n",
    "    \n",
    "    #random pick from list of usernames\n",
    "    player_list = random.sample(get_player_ids_by_country(country), 30000)\n",
    "\n",
    "    players = []\n",
    "\n",
    "    for player in player_list:\n",
    "        if len(players) == num_of_players:\n",
    "            break \n",
    "        elif (date_joined(player) > time) and (blitz_games_won(player) >= games_won):\n",
    "            players.append(player)\n",
    "    return players"
   ]
  },
  {
   "cell_type": "code",
   "execution_count": 45,
   "metadata": {},
   "outputs": [],
   "source": [
    "def date_joined(username, datetype='epoch'):\n",
    "    #returns the date the user joined in epoch time by default, human readable date is returned if datetype=readable\n",
    "    response = requests.get(f'https://api.chess.com/pub/player/{username}')\n",
    "    profile = json.loads(response.content.decode('utf-8'))\n",
    "    try:\n",
    "        if datetype == 'epoch':\n",
    "            return profile['joined']\n",
    "        elif datetype == 'readable':\n",
    "            return datetime.datetime.fromtimestamp(profile['joined']).strftime('%c')\n",
    "    except:\n",
    "        return 0\n",
    "\n",
    "def blitz_games_won(username):\n",
    "    response = requests.get(f'https://api.chess.com/pub/player/{username}/stats')\n",
    "    stats = json.loads(response.content.decode('utf-8'))\n",
    "    try:\n",
    "        return stats['chess_blitz']['record']['win']\n",
    "    except:\n",
    "        return 0"
   ]
  },
  {
   "cell_type": "code",
   "execution_count": 9,
   "metadata": {},
   "outputs": [],
   "source": [
    "player_list = random.sample(get_player_ids_by_country('US'), 30000)"
   ]
  },
  {
   "cell_type": "code",
   "execution_count": 32,
   "metadata": {
    "scrolled": true
   },
   "outputs": [
    {
     "name": "stdout",
     "output_type": "stream",
     "text": [
      "strickj\n",
      "rashid0\n",
      "bryg\n",
      "yellowfupa\n",
      "mhmmders\n",
      "ksali\n",
      "matthewdalton\n",
      "jo2e\n",
      "mlamarc\n",
      "blueduck123\n",
      "geldon12345\n",
      "stephen47\n",
      "rob311\n",
      "beegal\n",
      "student808\n",
      "jorgeaa\n",
      "kev_98\n",
      "topat\n",
      "q7q\n",
      "eyezek\n",
      "mhyderali\n",
      "dbotts5\n",
      "raximo\n",
      "aceshi\n",
      "jimmyro\n",
      "djd1234\n",
      "shambhavisri\n",
      "noor197\n",
      "sergenian\n",
      "rod12\n",
      "dustydust\n",
      "testud\n",
      "masterdron\n",
      "islandof\n",
      "kantola\n",
      "excalibir\n",
      "pidler\n",
      "johnlong33\n",
      "krabd\n",
      "fastenf\n",
      "badger6\n",
      "kingjiv\n",
      "jerronisback\n",
      "bigshot81\n",
      "sivasagar\n",
      "magdy22\n",
      "zeban\n",
      "hash777\n",
      "mn1chess\n",
      "kelas111\n",
      "jeanrus\n",
      "piacentifrank\n",
      "mrmrs\n",
      "jharris1\n",
      "the_chosen_one10\n",
      "frozenfang\n",
      "glerps\n",
      "sd101\n",
      "trainrec\n",
      "bagobo\n",
      "des17\n",
      "omlu\n",
      "crnrfght\n",
      "chrondawg\n",
      "anuches\n",
      "frodo5\n",
      "alvinhs\n",
      "jjj88\n",
      "samleon5\n",
      "calke\n",
      "chichi5000\n",
      "supermelo\n",
      "leroy7\n",
      "psycharchitect2\n",
      "jeremiahhall\n",
      "jakemauldin\n",
      "bricz\n",
      "artn\n",
      "sancho2\n",
      "omercel\n",
      "markome\n",
      "snakeh\n",
      "eduard27\n",
      "circaterp\n",
      "j_sully\n",
      "jasonxu\n",
      "grizul\n",
      "hrvatska420\n",
      "juanpabl\n",
      "jed5\n",
      "iam66\n",
      "misterton\n",
      "treetown\n",
      "qor\n",
      "starsher\n",
      "zeldre\n",
      "gheis\n",
      "mojococo\n",
      "jefsch7\n",
      "blanchella\n",
      "['strickj', 'rashid0', 'bryg', 'yellowfupa', 'mhmmders', 'ksali', 'matthewdalton', 'jo2e', 'mlamarc', 'blueduck123', 'geldon12345', 'stephen47', 'rob311', 'beegal', 'student808', 'jorgeaa', 'kev_98', 'topat', 'q7q', 'eyezek', 'mhyderali', 'dbotts5', 'raximo', 'aceshi', 'jimmyro', 'djd1234', 'shambhavisri', 'noor197', 'sergenian', 'rod12', 'dustydust', 'testud', 'masterdron', 'islandof', 'kantola', 'excalibir', 'pidler', 'johnlong33', 'krabd', 'fastenf', 'badger6', 'kingjiv', 'jerronisback', 'bigshot81', 'sivasagar', 'magdy22', 'zeban', 'hash777', 'mn1chess', 'kelas111', 'jeanrus', 'piacentifrank', 'mrmrs', 'jharris1', 'the_chosen_one10', 'frozenfang', 'glerps', 'sd101', 'trainrec', 'bagobo', 'des17', 'omlu', 'crnrfght', 'chrondawg', 'anuches', 'frodo5', 'alvinhs', 'jjj88', 'samleon5', 'calke', 'chichi5000', 'supermelo', 'leroy7', 'psycharchitect2', 'jeremiahhall', 'jakemauldin', 'bricz', 'artn', 'sancho2', 'omercel', 'markome', 'snakeh', 'eduard27', 'circaterp', 'j_sully', 'jasonxu', 'grizul', 'hrvatska420', 'juanpabl', 'jed5', 'iam66', 'misterton', 'treetown', 'qor', 'starsher', 'zeldre', 'gheis', 'mojococo', 'jefsch7', 'blanchella']\n"
     ]
    }
   ],
   "source": [
    "players = []\n",
    "\n",
    "for player in player_list:\n",
    "    if len(players) == num_of_players:\n",
    "        break \n",
    "    elif (date_joined(player) > t) and (blitz_games_won(player) > 2):\n",
    "        players.append(player)\n",
    "return players"
   ]
  },
  {
   "cell_type": "code",
   "execution_count": 34,
   "metadata": {
    "scrolled": true
   },
   "outputs": [
    {
     "data": {
      "text/plain": [
       "['strickj',\n",
       " 'rashid0',\n",
       " 'bryg',\n",
       " 'yellowfupa',\n",
       " 'mhmmders',\n",
       " 'ksali',\n",
       " 'matthewdalton',\n",
       " 'jo2e',\n",
       " 'mlamarc',\n",
       " 'blueduck123',\n",
       " 'geldon12345',\n",
       " 'stephen47',\n",
       " 'rob311',\n",
       " 'beegal',\n",
       " 'student808',\n",
       " 'jorgeaa',\n",
       " 'kev_98',\n",
       " 'topat',\n",
       " 'q7q',\n",
       " 'eyezek',\n",
       " 'mhyderali',\n",
       " 'dbotts5',\n",
       " 'raximo',\n",
       " 'aceshi',\n",
       " 'jimmyro',\n",
       " 'djd1234',\n",
       " 'shambhavisri',\n",
       " 'noor197',\n",
       " 'sergenian',\n",
       " 'rod12',\n",
       " 'dustydust',\n",
       " 'testud',\n",
       " 'masterdron',\n",
       " 'islandof',\n",
       " 'kantola',\n",
       " 'excalibir',\n",
       " 'pidler',\n",
       " 'johnlong33',\n",
       " 'krabd',\n",
       " 'fastenf',\n",
       " 'badger6',\n",
       " 'kingjiv',\n",
       " 'jerronisback',\n",
       " 'bigshot81',\n",
       " 'sivasagar',\n",
       " 'magdy22',\n",
       " 'zeban',\n",
       " 'hash777',\n",
       " 'mn1chess',\n",
       " 'kelas111',\n",
       " 'jeanrus',\n",
       " 'piacentifrank',\n",
       " 'mrmrs',\n",
       " 'jharris1',\n",
       " 'the_chosen_one10',\n",
       " 'frozenfang',\n",
       " 'glerps',\n",
       " 'sd101',\n",
       " 'trainrec',\n",
       " 'bagobo',\n",
       " 'des17',\n",
       " 'omlu',\n",
       " 'crnrfght',\n",
       " 'chrondawg',\n",
       " 'anuches',\n",
       " 'frodo5',\n",
       " 'alvinhs',\n",
       " 'jjj88',\n",
       " 'samleon5',\n",
       " 'calke',\n",
       " 'chichi5000',\n",
       " 'supermelo',\n",
       " 'leroy7',\n",
       " 'psycharchitect2',\n",
       " 'jeremiahhall',\n",
       " 'jakemauldin',\n",
       " 'bricz',\n",
       " 'artn',\n",
       " 'sancho2',\n",
       " 'omercel',\n",
       " 'markome',\n",
       " 'snakeh',\n",
       " 'eduard27',\n",
       " 'circaterp',\n",
       " 'j_sully',\n",
       " 'jasonxu',\n",
       " 'grizul',\n",
       " 'hrvatska420',\n",
       " 'juanpabl',\n",
       " 'jed5',\n",
       " 'iam66',\n",
       " 'misterton',\n",
       " 'treetown',\n",
       " 'qor',\n",
       " 'starsher',\n",
       " 'zeldre',\n",
       " 'gheis',\n",
       " 'mojococo',\n",
       " 'jefsch7',\n",
       " 'blanchella']"
      ]
     },
     "execution_count": 34,
     "metadata": {},
     "output_type": "execute_result"
    }
   ],
   "source": [
    "players"
   ]
  },
  {
   "cell_type": "code",
   "execution_count": 25,
   "metadata": {},
   "outputs": [
    {
     "data": {
      "text/plain": [
       "100"
      ]
     },
     "execution_count": 25,
     "metadata": {},
     "output_type": "execute_result"
    }
   ],
   "source": [
    "found_players = ['hissysnake', 'chara1234', 'negan7', 'strickj', 'konday', 'laserwolff', 'rhabib', 'jtgilly', 'joevi', 'rashid0', 'mateo331', 'bruce_5', 'volkerl', 'imbetterthanu1', 'dragonmaster57', 'panda133', 'zoranqq', 'bryg', 'zakami', 'yellowfupa', 'checkers3', 'clayclay1', 'mhmmders', '65v', 'sadams1', 'madmaxw', 'ksali', 'troutdog', 'matthewdalton', 'jo2e', 'mlamarc', 'nhowl', 'drainey', 'kaiser24', 'enki7', 'capri95', 'maxtons', 'wilfro', 'brownle', 'macgyver7', 'maysam9', 'geminin', 'jmacneil', 'evanbbbbb', 'blueduck123', 'gregmat', 'bucky05', 'geldon12345', 'stephen47', 'julbo7', 'stefxb', 'rob311', 'alan2017', 'hrot', 'zxcvvbn', 'beegal', 'david197', 'bhaida', 'alexanderthegreat11', 'student808', 'assslapper111', 'yourmove6', 'jorgeaa', 'acargil', 'larsonp', 'kev_98', 'ng12', 'komodo', 'kohna', 'topat', 'johnny_1', 'manuelcarpio', 'rstaro', 'bontheepic4real', 'q7q', 'eyezek', 'mhyderali', 'degado', 'jocker0', 'buffalo22', 'dbotts5', 'mariomone', 'iamdrew', 'ipman2', 'thanhhuynh', 'magicstep', 'dalbe', 'ronsher13', 'true11', 'fuc', 'raximo', 'aceshi', 'twodoor', 'jimmyro', 'jalara', 'nova5', 'djd1234', 'mugwump2', 'calebdun', 'timmct']\n",
    "len(found_players)"
   ]
  },
  {
   "cell_type": "code",
   "execution_count": 27,
   "metadata": {},
   "outputs": [
    {
     "data": {
      "text/plain": [
       "['strickj',\n",
       " 'rashid0',\n",
       " 'bryg',\n",
       " 'yellowfupa',\n",
       " 'mhmmders',\n",
       " 'ksali',\n",
       " 'matthewdalton',\n",
       " 'jo2e',\n",
       " 'mlamarc',\n",
       " 'blueduck123',\n",
       " 'geldon12345',\n",
       " 'stephen47',\n",
       " 'rob311',\n",
       " 'beegal',\n",
       " 'student808',\n",
       " 'kev_98',\n",
       " 'mhyderali',\n",
       " 'dbotts5',\n",
       " 'aceshi',\n",
       " 'jimmyro',\n",
       " 'djd1234']"
      ]
     },
     "execution_count": 27,
     "metadata": {},
     "output_type": "execute_result"
    }
   ],
   "source": [
    "[player for player in found_players if blitz_games_won(player) > 5]\n"
   ]
  },
  {
   "cell_type": "code",
   "execution_count": 46,
   "metadata": {},
   "outputs": [
    {
     "data": {
      "text/plain": [
       "'Wed Mar  1 12:24:47 2017'"
      ]
     },
     "execution_count": 46,
     "metadata": {},
     "output_type": "execute_result"
    }
   ],
   "source": [
    "date_joined('bricz', datetype='readable')"
   ]
  },
  {
   "cell_type": "code",
   "execution_count": null,
   "metadata": {},
   "outputs": [],
   "source": []
  }
 ],
 "metadata": {
  "kernelspec": {
   "display_name": "py36",
   "language": "python",
   "name": "py36"
  },
  "language_info": {
   "codemirror_mode": {
    "name": "ipython",
    "version": 3
   },
   "file_extension": ".py",
   "mimetype": "text/x-python",
   "name": "python",
   "nbconvert_exporter": "python",
   "pygments_lexer": "ipython3",
   "version": "3.6.4"
  }
 },
 "nbformat": 4,
 "nbformat_minor": 2
}
